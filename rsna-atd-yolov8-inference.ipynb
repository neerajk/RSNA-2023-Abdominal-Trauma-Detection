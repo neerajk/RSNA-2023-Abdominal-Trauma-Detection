{
 "cells": [
  {
   "cell_type": "markdown",
   "id": "5021868c",
   "metadata": {
    "papermill": {
     "duration": 0.012925,
     "end_time": "2023-09-03T07:02:13.467512",
     "exception": false,
     "start_time": "2023-09-03T07:02:13.454587",
     "status": "completed"
    },
    "tags": []
   },
   "source": []
  },
  {
   "cell_type": "code",
   "execution_count": 1,
   "id": "bb92023b",
   "metadata": {
    "_cell_guid": "b1076dfc-b9ad-4769-8c92-a6c4dae69d19",
    "_uuid": "8f2839f25d086af736a60e9eeb907d3b93b6e0e5",
    "execution": {
     "iopub.execute_input": "2023-09-03T07:02:13.495298Z",
     "iopub.status.busy": "2023-09-03T07:02:13.494497Z",
     "iopub.status.idle": "2023-09-03T07:02:59.865978Z",
     "shell.execute_reply": "2023-09-03T07:02:59.864368Z"
    },
    "papermill": {
     "duration": 46.38946,
     "end_time": "2023-09-03T07:02:59.869162",
     "exception": false,
     "start_time": "2023-09-03T07:02:13.479702",
     "status": "completed"
    },
    "tags": []
   },
   "outputs": [],
   "source": [
    "! pip install -q /kaggle/input/keras-cv-core-namex/namex-0.0.7-py3-none-any.whl\n",
    "! pip install -q /kaggle/input/keras-cv-core-namex/keras_core-0.1.4-py3-none-any.whl\n",
    "! pip install -q /kaggle/input/keras-cv-core-namex/keras_cv-0.6.1-py3-none-any.whl"
   ]
  },
  {
   "cell_type": "code",
   "execution_count": 2,
   "id": "61a668db",
   "metadata": {
    "execution": {
     "iopub.execute_input": "2023-09-03T07:02:59.895248Z",
     "iopub.status.busy": "2023-09-03T07:02:59.894730Z",
     "iopub.status.idle": "2023-09-03T07:03:18.894249Z",
     "shell.execute_reply": "2023-09-03T07:03:18.892988Z"
    },
    "papermill": {
     "duration": 19.016601,
     "end_time": "2023-09-03T07:03:18.897938",
     "exception": false,
     "start_time": "2023-09-03T07:02:59.881337",
     "status": "completed"
    },
    "tags": []
   },
   "outputs": [
    {
     "name": "stdout",
     "output_type": "stream",
     "text": [
      "Using TensorFlow backend\n"
     ]
    }
   ],
   "source": [
    "import os\n",
    "os.environ[\"KERAS_BACKEND\"] = \"tensorflow\"\n",
    "import keras_core as keras\n",
    "import keras_cv\n",
    "\n",
    "import gc\n",
    "import cv2\n",
    "import pydicom\n",
    "from joblib import Parallel, delayed\n",
    "\n",
    "import tensorflow as tf\n",
    "import numpy as np\n",
    "import pandas as pd\n",
    "from tqdm.notebook import tqdm\n",
    "from glob import glob"
   ]
  },
  {
   "cell_type": "code",
   "execution_count": 3,
   "id": "c97ec065",
   "metadata": {
    "execution": {
     "iopub.execute_input": "2023-09-03T07:03:18.924612Z",
     "iopub.status.busy": "2023-09-03T07:03:18.923896Z",
     "iopub.status.idle": "2023-09-03T07:03:18.930248Z",
     "shell.execute_reply": "2023-09-03T07:03:18.929056Z"
    },
    "papermill": {
     "duration": 0.02228,
     "end_time": "2023-09-03T07:03:18.932778",
     "exception": false,
     "start_time": "2023-09-03T07:03:18.910498",
     "status": "completed"
    },
    "tags": []
   },
   "outputs": [],
   "source": [
    "BASE_PATH = \"/kaggle/input/rsna-2023-abdominal-trauma-detection\"\n",
    "IMAGE_DIR = \"/tmp/dataset/rsna-atd\"\n",
    "INPUT_MODEL_PATH = \"/input/rsna-train-keras-yolov8/yolov8_xl_atd.keras\"\n",
    "MODEL_PATH = \"/kaggle/working/yolov8_xl_atd.keras\"\n",
    "\n",
    "STRIDE = 10"
   ]
  },
  {
   "cell_type": "code",
   "execution_count": 4,
   "id": "c6bc0b2e",
   "metadata": {
    "execution": {
     "iopub.execute_input": "2023-09-03T07:03:18.958483Z",
     "iopub.status.busy": "2023-09-03T07:03:18.958053Z",
     "iopub.status.idle": "2023-09-03T07:03:18.964846Z",
     "shell.execute_reply": "2023-09-03T07:03:18.963666Z"
    },
    "papermill": {
     "duration": 0.022501,
     "end_time": "2023-09-03T07:03:18.967315",
     "exception": false,
     "start_time": "2023-09-03T07:03:18.944814",
     "status": "completed"
    },
    "tags": []
   },
   "outputs": [],
   "source": [
    "class Config:\n",
    "    IMAGE_SIZE = [256, 256]\n",
    "    RESIZE_DIM = 256\n",
    "    BATCH_SIZE = 32\n",
    "    AUTOTUNE = tf.data.AUTOTUNE\n",
    "    TARGET_COLS  = [\"bowel_healthy\", \"bowel_injury\", \"extravasation_healthy\",\n",
    "                   \"extravasation_injury\", \"kidney_healthy\", \"kidney_low\",\n",
    "                   \"kidney_high\", \"liver_healthy\", \"liver_low\", \"liver_high\",\n",
    "                   \"spleen_healthy\", \"spleen_low\", \"spleen_high\"]\n",
    "\n",
    "config = Config()"
   ]
  },
  {
   "cell_type": "code",
   "execution_count": 5,
   "id": "ee11b683",
   "metadata": {
    "execution": {
     "iopub.execute_input": "2023-09-03T07:03:18.993215Z",
     "iopub.status.busy": "2023-09-03T07:03:18.992785Z",
     "iopub.status.idle": "2023-09-03T07:03:20.150033Z",
     "shell.execute_reply": "2023-09-03T07:03:20.148422Z"
    },
    "papermill": {
     "duration": 1.173452,
     "end_time": "2023-09-03T07:03:20.152839",
     "exception": false,
     "start_time": "2023-09-03T07:03:18.979387",
     "status": "completed"
    },
    "tags": []
   },
   "outputs": [],
   "source": [
    "!cp /kaggle/input/rsna-train-keras-yolov8/yolov8_xl_atd.keras /kaggle/working/\n"
   ]
  },
  {
   "cell_type": "code",
   "execution_count": 6,
   "id": "8a1b7aaf",
   "metadata": {
    "execution": {
     "iopub.execute_input": "2023-09-03T07:03:20.182289Z",
     "iopub.status.busy": "2023-09-03T07:03:20.181392Z",
     "iopub.status.idle": "2023-09-03T07:03:20.518028Z",
     "shell.execute_reply": "2023-09-03T07:03:20.516970Z"
    },
    "papermill": {
     "duration": 0.354951,
     "end_time": "2023-09-03T07:03:20.521002",
     "exception": false,
     "start_time": "2023-09-03T07:03:20.166051",
     "status": "completed"
    },
    "tags": []
   },
   "outputs": [],
   "source": [
    "model = keras.models.load_model(MODEL_PATH)"
   ]
  },
  {
   "cell_type": "code",
   "execution_count": 7,
   "id": "20e32973",
   "metadata": {
    "execution": {
     "iopub.execute_input": "2023-09-03T07:03:20.548187Z",
     "iopub.status.busy": "2023-09-03T07:03:20.547407Z",
     "iopub.status.idle": "2023-09-03T07:03:20.587459Z",
     "shell.execute_reply": "2023-09-03T07:03:20.586344Z"
    },
    "papermill": {
     "duration": 0.056049,
     "end_time": "2023-09-03T07:03:20.589859",
     "exception": false,
     "start_time": "2023-09-03T07:03:20.533810",
     "status": "completed"
    },
    "tags": []
   },
   "outputs": [
    {
     "data": {
      "text/html": [
       "<pre style=\"white-space:pre;overflow-x:auto;line-height:normal;font-family:Menlo,'DejaVu Sans Mono',consolas,'Courier New',monospace\"><span style=\"font-weight: bold\">Model: \"functional_1\"</span>\n",
       "</pre>\n"
      ],
      "text/plain": [
       "\u001b[1mModel: \"functional_1\"\u001b[0m\n"
      ]
     },
     "metadata": {},
     "output_type": "display_data"
    },
    {
     "data": {
      "text/html": [
       "<pre style=\"white-space:pre;overflow-x:auto;line-height:normal;font-family:Menlo,'DejaVu Sans Mono',consolas,'Courier New',monospace\">┏━━━━━━━━━━━━━━━━━━━━━┳━━━━━━━━━━━━━━━━━━━┳━━━━━━━━━┳━━━━━━━━━━━━━━━━━━━━━━┓\n",
       "┃<span style=\"font-weight: bold\"> Layer (type)        </span>┃<span style=\"font-weight: bold\"> Output Shape      </span>┃<span style=\"font-weight: bold\"> Param # </span>┃<span style=\"font-weight: bold\"> Connected to         </span>┃\n",
       "┡━━━━━━━━━━━━━━━━━━━━━╇━━━━━━━━━━━━━━━━━━━╇━━━━━━━━━╇━━━━━━━━━━━━━━━━━━━━━━┩\n",
       "│ input_layer         │ (<span style=\"color: #00af00; text-decoration-color: #00af00\">32</span>, <span style=\"color: #00af00; text-decoration-color: #00af00\">256</span>, <span style=\"color: #00af00; text-decoration-color: #00af00\">256</span>, <span style=\"color: #00af00; text-decoration-color: #00af00\">3</span>) │       <span style=\"color: #00af00; text-decoration-color: #00af00\">0</span> │ -                    │\n",
       "│ (<span style=\"color: #0087ff; text-decoration-color: #0087ff\">InputLayer</span>)        │                   │         │                      │\n",
       "├─────────────────────┼───────────────────┼─────────┼──────────────────────┤\n",
       "│ global_average_poo… │ (<span style=\"color: #00af00; text-decoration-color: #00af00\">32</span>, <span style=\"color: #00af00; text-decoration-color: #00af00\">3</span>)           │       <span style=\"color: #00af00; text-decoration-color: #00af00\">0</span> │ input_layer[<span style=\"color: #00af00; text-decoration-color: #00af00\">0</span>][<span style=\"color: #00af00; text-decoration-color: #00af00\">0</span>]    │\n",
       "│ (<span style=\"color: #0087ff; text-decoration-color: #0087ff\">GlobalAveragePool…</span> │                   │         │                      │\n",
       "├─────────────────────┼───────────────────┼─────────┼──────────────────────┤\n",
       "│ dense (<span style=\"color: #0087ff; text-decoration-color: #0087ff\">Dense</span>)       │ (<span style=\"color: #00af00; text-decoration-color: #00af00\">32</span>, <span style=\"color: #00af00; text-decoration-color: #00af00\">32</span>)          │     <span style=\"color: #00af00; text-decoration-color: #00af00\">128</span> │ global_average_pool… │\n",
       "├─────────────────────┼───────────────────┼─────────┼──────────────────────┤\n",
       "│ dense_1 (<span style=\"color: #0087ff; text-decoration-color: #0087ff\">Dense</span>)     │ (<span style=\"color: #00af00; text-decoration-color: #00af00\">32</span>, <span style=\"color: #00af00; text-decoration-color: #00af00\">32</span>)          │     <span style=\"color: #00af00; text-decoration-color: #00af00\">128</span> │ global_average_pool… │\n",
       "├─────────────────────┼───────────────────┼─────────┼──────────────────────┤\n",
       "│ dense_2 (<span style=\"color: #0087ff; text-decoration-color: #0087ff\">Dense</span>)     │ (<span style=\"color: #00af00; text-decoration-color: #00af00\">32</span>, <span style=\"color: #00af00; text-decoration-color: #00af00\">32</span>)          │     <span style=\"color: #00af00; text-decoration-color: #00af00\">128</span> │ global_average_pool… │\n",
       "├─────────────────────┼───────────────────┼─────────┼──────────────────────┤\n",
       "│ dense_3 (<span style=\"color: #0087ff; text-decoration-color: #0087ff\">Dense</span>)     │ (<span style=\"color: #00af00; text-decoration-color: #00af00\">32</span>, <span style=\"color: #00af00; text-decoration-color: #00af00\">32</span>)          │     <span style=\"color: #00af00; text-decoration-color: #00af00\">128</span> │ global_average_pool… │\n",
       "├─────────────────────┼───────────────────┼─────────┼──────────────────────┤\n",
       "│ dense_4 (<span style=\"color: #0087ff; text-decoration-color: #0087ff\">Dense</span>)     │ (<span style=\"color: #00af00; text-decoration-color: #00af00\">32</span>, <span style=\"color: #00af00; text-decoration-color: #00af00\">32</span>)          │     <span style=\"color: #00af00; text-decoration-color: #00af00\">128</span> │ global_average_pool… │\n",
       "├─────────────────────┼───────────────────┼─────────┼──────────────────────┤\n",
       "│ bowel (<span style=\"color: #0087ff; text-decoration-color: #0087ff\">Dense</span>)       │ (<span style=\"color: #00af00; text-decoration-color: #00af00\">32</span>, <span style=\"color: #00af00; text-decoration-color: #00af00\">1</span>)           │      <span style=\"color: #00af00; text-decoration-color: #00af00\">33</span> │ dense[<span style=\"color: #00af00; text-decoration-color: #00af00\">0</span>][<span style=\"color: #00af00; text-decoration-color: #00af00\">0</span>]          │\n",
       "├─────────────────────┼───────────────────┼─────────┼──────────────────────┤\n",
       "│ extra (<span style=\"color: #0087ff; text-decoration-color: #0087ff\">Dense</span>)       │ (<span style=\"color: #00af00; text-decoration-color: #00af00\">32</span>, <span style=\"color: #00af00; text-decoration-color: #00af00\">1</span>)           │      <span style=\"color: #00af00; text-decoration-color: #00af00\">33</span> │ dense_1[<span style=\"color: #00af00; text-decoration-color: #00af00\">0</span>][<span style=\"color: #00af00; text-decoration-color: #00af00\">0</span>]        │\n",
       "├─────────────────────┼───────────────────┼─────────┼──────────────────────┤\n",
       "│ liver (<span style=\"color: #0087ff; text-decoration-color: #0087ff\">Dense</span>)       │ (<span style=\"color: #00af00; text-decoration-color: #00af00\">32</span>, <span style=\"color: #00af00; text-decoration-color: #00af00\">3</span>)           │      <span style=\"color: #00af00; text-decoration-color: #00af00\">99</span> │ dense_2[<span style=\"color: #00af00; text-decoration-color: #00af00\">0</span>][<span style=\"color: #00af00; text-decoration-color: #00af00\">0</span>]        │\n",
       "├─────────────────────┼───────────────────┼─────────┼──────────────────────┤\n",
       "│ kidney (<span style=\"color: #0087ff; text-decoration-color: #0087ff\">Dense</span>)      │ (<span style=\"color: #00af00; text-decoration-color: #00af00\">32</span>, <span style=\"color: #00af00; text-decoration-color: #00af00\">3</span>)           │      <span style=\"color: #00af00; text-decoration-color: #00af00\">99</span> │ dense_3[<span style=\"color: #00af00; text-decoration-color: #00af00\">0</span>][<span style=\"color: #00af00; text-decoration-color: #00af00\">0</span>]        │\n",
       "├─────────────────────┼───────────────────┼─────────┼──────────────────────┤\n",
       "│ spleen (<span style=\"color: #0087ff; text-decoration-color: #0087ff\">Dense</span>)      │ (<span style=\"color: #00af00; text-decoration-color: #00af00\">32</span>, <span style=\"color: #00af00; text-decoration-color: #00af00\">3</span>)           │      <span style=\"color: #00af00; text-decoration-color: #00af00\">99</span> │ dense_4[<span style=\"color: #00af00; text-decoration-color: #00af00\">0</span>][<span style=\"color: #00af00; text-decoration-color: #00af00\">0</span>]        │\n",
       "└─────────────────────┴───────────────────┴─────────┴──────────────────────┘\n",
       "</pre>\n"
      ],
      "text/plain": [
       "┏━━━━━━━━━━━━━━━━━━━━━┳━━━━━━━━━━━━━━━━━━━┳━━━━━━━━━┳━━━━━━━━━━━━━━━━━━━━━━┓\n",
       "┃\u001b[1m \u001b[0m\u001b[1mLayer (type)       \u001b[0m\u001b[1m \u001b[0m┃\u001b[1m \u001b[0m\u001b[1mOutput Shape     \u001b[0m\u001b[1m \u001b[0m┃\u001b[1m \u001b[0m\u001b[1mParam #\u001b[0m\u001b[1m \u001b[0m┃\u001b[1m \u001b[0m\u001b[1mConnected to        \u001b[0m\u001b[1m \u001b[0m┃\n",
       "┡━━━━━━━━━━━━━━━━━━━━━╇━━━━━━━━━━━━━━━━━━━╇━━━━━━━━━╇━━━━━━━━━━━━━━━━━━━━━━┩\n",
       "│ input_layer         │ (\u001b[38;5;34m32\u001b[0m, \u001b[38;5;34m256\u001b[0m, \u001b[38;5;34m256\u001b[0m, \u001b[38;5;34m3\u001b[0m) │       \u001b[38;5;34m0\u001b[0m │ -                    │\n",
       "│ (\u001b[38;5;33mInputLayer\u001b[0m)        │                   │         │                      │\n",
       "├─────────────────────┼───────────────────┼─────────┼──────────────────────┤\n",
       "│ global_average_poo… │ (\u001b[38;5;34m32\u001b[0m, \u001b[38;5;34m3\u001b[0m)           │       \u001b[38;5;34m0\u001b[0m │ input_layer[\u001b[38;5;34m0\u001b[0m][\u001b[38;5;34m0\u001b[0m]    │\n",
       "│ (\u001b[38;5;33mGlobalAveragePool…\u001b[0m │                   │         │                      │\n",
       "├─────────────────────┼───────────────────┼─────────┼──────────────────────┤\n",
       "│ dense (\u001b[38;5;33mDense\u001b[0m)       │ (\u001b[38;5;34m32\u001b[0m, \u001b[38;5;34m32\u001b[0m)          │     \u001b[38;5;34m128\u001b[0m │ global_average_pool… │\n",
       "├─────────────────────┼───────────────────┼─────────┼──────────────────────┤\n",
       "│ dense_1 (\u001b[38;5;33mDense\u001b[0m)     │ (\u001b[38;5;34m32\u001b[0m, \u001b[38;5;34m32\u001b[0m)          │     \u001b[38;5;34m128\u001b[0m │ global_average_pool… │\n",
       "├─────────────────────┼───────────────────┼─────────┼──────────────────────┤\n",
       "│ dense_2 (\u001b[38;5;33mDense\u001b[0m)     │ (\u001b[38;5;34m32\u001b[0m, \u001b[38;5;34m32\u001b[0m)          │     \u001b[38;5;34m128\u001b[0m │ global_average_pool… │\n",
       "├─────────────────────┼───────────────────┼─────────┼──────────────────────┤\n",
       "│ dense_3 (\u001b[38;5;33mDense\u001b[0m)     │ (\u001b[38;5;34m32\u001b[0m, \u001b[38;5;34m32\u001b[0m)          │     \u001b[38;5;34m128\u001b[0m │ global_average_pool… │\n",
       "├─────────────────────┼───────────────────┼─────────┼──────────────────────┤\n",
       "│ dense_4 (\u001b[38;5;33mDense\u001b[0m)     │ (\u001b[38;5;34m32\u001b[0m, \u001b[38;5;34m32\u001b[0m)          │     \u001b[38;5;34m128\u001b[0m │ global_average_pool… │\n",
       "├─────────────────────┼───────────────────┼─────────┼──────────────────────┤\n",
       "│ bowel (\u001b[38;5;33mDense\u001b[0m)       │ (\u001b[38;5;34m32\u001b[0m, \u001b[38;5;34m1\u001b[0m)           │      \u001b[38;5;34m33\u001b[0m │ dense[\u001b[38;5;34m0\u001b[0m][\u001b[38;5;34m0\u001b[0m]          │\n",
       "├─────────────────────┼───────────────────┼─────────┼──────────────────────┤\n",
       "│ extra (\u001b[38;5;33mDense\u001b[0m)       │ (\u001b[38;5;34m32\u001b[0m, \u001b[38;5;34m1\u001b[0m)           │      \u001b[38;5;34m33\u001b[0m │ dense_1[\u001b[38;5;34m0\u001b[0m][\u001b[38;5;34m0\u001b[0m]        │\n",
       "├─────────────────────┼───────────────────┼─────────┼──────────────────────┤\n",
       "│ liver (\u001b[38;5;33mDense\u001b[0m)       │ (\u001b[38;5;34m32\u001b[0m, \u001b[38;5;34m3\u001b[0m)           │      \u001b[38;5;34m99\u001b[0m │ dense_2[\u001b[38;5;34m0\u001b[0m][\u001b[38;5;34m0\u001b[0m]        │\n",
       "├─────────────────────┼───────────────────┼─────────┼──────────────────────┤\n",
       "│ kidney (\u001b[38;5;33mDense\u001b[0m)      │ (\u001b[38;5;34m32\u001b[0m, \u001b[38;5;34m3\u001b[0m)           │      \u001b[38;5;34m99\u001b[0m │ dense_3[\u001b[38;5;34m0\u001b[0m][\u001b[38;5;34m0\u001b[0m]        │\n",
       "├─────────────────────┼───────────────────┼─────────┼──────────────────────┤\n",
       "│ spleen (\u001b[38;5;33mDense\u001b[0m)      │ (\u001b[38;5;34m32\u001b[0m, \u001b[38;5;34m3\u001b[0m)           │      \u001b[38;5;34m99\u001b[0m │ dense_4[\u001b[38;5;34m0\u001b[0m][\u001b[38;5;34m0\u001b[0m]        │\n",
       "└─────────────────────┴───────────────────┴─────────┴──────────────────────┘\n"
      ]
     },
     "metadata": {},
     "output_type": "display_data"
    },
    {
     "data": {
      "text/html": [
       "<pre style=\"white-space:pre;overflow-x:auto;line-height:normal;font-family:Menlo,'DejaVu Sans Mono',consolas,'Courier New',monospace\"><span style=\"font-weight: bold\"> Total params: </span><span style=\"color: #00af00; text-decoration-color: #00af00\">1,003</span> (31.34 KB)\n",
       "</pre>\n"
      ],
      "text/plain": [
       "\u001b[1m Total params: \u001b[0m\u001b[38;5;34m1,003\u001b[0m (31.34 KB)\n"
      ]
     },
     "metadata": {},
     "output_type": "display_data"
    },
    {
     "data": {
      "text/html": [
       "<pre style=\"white-space:pre;overflow-x:auto;line-height:normal;font-family:Menlo,'DejaVu Sans Mono',consolas,'Courier New',monospace\"><span style=\"font-weight: bold\"> Trainable params: </span><span style=\"color: #00af00; text-decoration-color: #00af00\">1,003</span> (31.34 KB)\n",
       "</pre>\n"
      ],
      "text/plain": [
       "\u001b[1m Trainable params: \u001b[0m\u001b[38;5;34m1,003\u001b[0m (31.34 KB)\n"
      ]
     },
     "metadata": {},
     "output_type": "display_data"
    },
    {
     "data": {
      "text/html": [
       "<pre style=\"white-space:pre;overflow-x:auto;line-height:normal;font-family:Menlo,'DejaVu Sans Mono',consolas,'Courier New',monospace\"><span style=\"font-weight: bold\"> Non-trainable params: </span><span style=\"color: #00af00; text-decoration-color: #00af00\">0</span> (0.00 B)\n",
       "</pre>\n"
      ],
      "text/plain": [
       "\u001b[1m Non-trainable params: \u001b[0m\u001b[38;5;34m0\u001b[0m (0.00 B)\n"
      ]
     },
     "metadata": {},
     "output_type": "display_data"
    }
   ],
   "source": [
    "model.summary()"
   ]
  },
  {
   "cell_type": "markdown",
   "id": "7546879b",
   "metadata": {
    "papermill": {
     "duration": 0.013272,
     "end_time": "2023-09-03T07:03:20.616848",
     "exception": false,
     "start_time": "2023-09-03T07:03:20.603576",
     "status": "completed"
    },
    "tags": []
   },
   "source": [
    "DATA PIPELINE"
   ]
  },
  {
   "cell_type": "code",
   "execution_count": 8,
   "id": "7f154126",
   "metadata": {
    "execution": {
     "iopub.execute_input": "2023-09-03T07:03:20.645739Z",
     "iopub.status.busy": "2023-09-03T07:03:20.645315Z",
     "iopub.status.idle": "2023-09-03T07:03:20.681873Z",
     "shell.execute_reply": "2023-09-03T07:03:20.680907Z"
    },
    "papermill": {
     "duration": 0.05452,
     "end_time": "2023-09-03T07:03:20.684561",
     "exception": false,
     "start_time": "2023-09-03T07:03:20.630041",
     "status": "completed"
    },
    "tags": []
   },
   "outputs": [
    {
     "data": {
      "text/html": [
       "<div>\n",
       "<style scoped>\n",
       "    .dataframe tbody tr th:only-of-type {\n",
       "        vertical-align: middle;\n",
       "    }\n",
       "\n",
       "    .dataframe tbody tr th {\n",
       "        vertical-align: top;\n",
       "    }\n",
       "\n",
       "    .dataframe thead th {\n",
       "        text-align: right;\n",
       "    }\n",
       "</style>\n",
       "<table border=\"1\" class=\"dataframe\">\n",
       "  <thead>\n",
       "    <tr style=\"text-align: right;\">\n",
       "      <th></th>\n",
       "      <th>patient_id</th>\n",
       "      <th>series_id</th>\n",
       "      <th>aortic_hu</th>\n",
       "    </tr>\n",
       "  </thead>\n",
       "  <tbody>\n",
       "    <tr>\n",
       "      <th>0</th>\n",
       "      <td>48843</td>\n",
       "      <td>295</td>\n",
       "      <td>401.25</td>\n",
       "    </tr>\n",
       "    <tr>\n",
       "      <th>1</th>\n",
       "      <td>48843</td>\n",
       "      <td>62825</td>\n",
       "      <td>238.00</td>\n",
       "    </tr>\n",
       "    <tr>\n",
       "      <th>2</th>\n",
       "      <td>50046</td>\n",
       "      <td>24574</td>\n",
       "      <td>149.00</td>\n",
       "    </tr>\n",
       "    <tr>\n",
       "      <th>3</th>\n",
       "      <td>50046</td>\n",
       "      <td>60658</td>\n",
       "      <td>352.00</td>\n",
       "    </tr>\n",
       "    <tr>\n",
       "      <th>4</th>\n",
       "      <td>63706</td>\n",
       "      <td>39279</td>\n",
       "      <td>219.00</td>\n",
       "    </tr>\n",
       "  </tbody>\n",
       "</table>\n",
       "</div>"
      ],
      "text/plain": [
       "   patient_id  series_id  aortic_hu\n",
       "0       48843        295     401.25\n",
       "1       48843      62825     238.00\n",
       "2       50046      24574     149.00\n",
       "3       50046      60658     352.00\n",
       "4       63706      39279     219.00"
      ]
     },
     "execution_count": 8,
     "metadata": {},
     "output_type": "execute_result"
    }
   ],
   "source": [
    "meta_df = pd.read_csv(f'{BASE_PATH}/test_series_meta.csv')\n",
    "\n",
    "meta_df.head()"
   ]
  },
  {
   "cell_type": "code",
   "execution_count": 9,
   "id": "71e504df",
   "metadata": {
    "execution": {
     "iopub.execute_input": "2023-09-03T07:03:20.714498Z",
     "iopub.status.busy": "2023-09-03T07:03:20.713998Z",
     "iopub.status.idle": "2023-09-03T07:03:20.732066Z",
     "shell.execute_reply": "2023-09-03T07:03:20.730879Z"
    },
    "papermill": {
     "duration": 0.036642,
     "end_time": "2023-09-03T07:03:20.735109",
     "exception": false,
     "start_time": "2023-09-03T07:03:20.698467",
     "status": "completed"
    },
    "tags": []
   },
   "outputs": [
    {
     "name": "stdout",
     "output_type": "stream",
     "text": [
      "num_rows=6\n",
      "unique_patients=patient_id\n",
      "48843    2\n",
      "50046    2\n",
      "63706    2\n",
      "Name: count, dtype: int64\n"
     ]
    }
   ],
   "source": [
    "#looking for duplicate values\n",
    "num_rows = meta_df.shape[0]\n",
    "unique_patients = meta_df['patient_id'].value_counts()\n",
    "\n",
    "print(f\"{num_rows=}\")\n",
    "print(f\"{unique_patients=}\")"
   ]
  },
  {
   "cell_type": "code",
   "execution_count": 10,
   "id": "b213b17d",
   "metadata": {
    "execution": {
     "iopub.execute_input": "2023-09-03T07:03:20.768332Z",
     "iopub.status.busy": "2023-09-03T07:03:20.767834Z",
     "iopub.status.idle": "2023-09-03T07:03:20.775551Z",
     "shell.execute_reply": "2023-09-03T07:03:20.774361Z"
    },
    "papermill": {
     "duration": 0.028081,
     "end_time": "2023-09-03T07:03:20.779050",
     "exception": false,
     "start_time": "2023-09-03T07:03:20.750969",
     "status": "completed"
    },
    "tags": []
   },
   "outputs": [
    {
     "data": {
      "text/plain": [
       "(6, 3)"
      ]
     },
     "execution_count": 10,
     "metadata": {},
     "output_type": "execute_result"
    }
   ],
   "source": [
    "meta_df.shape"
   ]
  },
  {
   "cell_type": "code",
   "execution_count": 11,
   "id": "162fdb5b",
   "metadata": {
    "execution": {
     "iopub.execute_input": "2023-09-03T07:03:20.809265Z",
     "iopub.status.busy": "2023-09-03T07:03:20.808826Z",
     "iopub.status.idle": "2023-09-03T07:03:20.825398Z",
     "shell.execute_reply": "2023-09-03T07:03:20.824242Z"
    },
    "papermill": {
     "duration": 0.034382,
     "end_time": "2023-09-03T07:03:20.827896",
     "exception": false,
     "start_time": "2023-09-03T07:03:20.793514",
     "status": "completed"
    },
    "tags": []
   },
   "outputs": [
    {
     "data": {
      "text/html": [
       "<div>\n",
       "<style scoped>\n",
       "    .dataframe tbody tr th:only-of-type {\n",
       "        vertical-align: middle;\n",
       "    }\n",
       "\n",
       "    .dataframe tbody tr th {\n",
       "        vertical-align: top;\n",
       "    }\n",
       "\n",
       "    .dataframe thead th {\n",
       "        text-align: right;\n",
       "    }\n",
       "</style>\n",
       "<table border=\"1\" class=\"dataframe\">\n",
       "  <thead>\n",
       "    <tr style=\"text-align: right;\">\n",
       "      <th></th>\n",
       "      <th>patient_id</th>\n",
       "      <th>series_id</th>\n",
       "      <th>aortic_hu</th>\n",
       "      <th>dicom_folder</th>\n",
       "    </tr>\n",
       "  </thead>\n",
       "  <tbody>\n",
       "    <tr>\n",
       "      <th>0</th>\n",
       "      <td>48843</td>\n",
       "      <td>295</td>\n",
       "      <td>401.25</td>\n",
       "      <td>/kaggle/input/rsna-2023-abdominal-trauma-detec...</td>\n",
       "    </tr>\n",
       "    <tr>\n",
       "      <th>1</th>\n",
       "      <td>48843</td>\n",
       "      <td>62825</td>\n",
       "      <td>238.00</td>\n",
       "      <td>/kaggle/input/rsna-2023-abdominal-trauma-detec...</td>\n",
       "    </tr>\n",
       "    <tr>\n",
       "      <th>2</th>\n",
       "      <td>50046</td>\n",
       "      <td>24574</td>\n",
       "      <td>149.00</td>\n",
       "      <td>/kaggle/input/rsna-2023-abdominal-trauma-detec...</td>\n",
       "    </tr>\n",
       "    <tr>\n",
       "      <th>3</th>\n",
       "      <td>50046</td>\n",
       "      <td>60658</td>\n",
       "      <td>352.00</td>\n",
       "      <td>/kaggle/input/rsna-2023-abdominal-trauma-detec...</td>\n",
       "    </tr>\n",
       "    <tr>\n",
       "      <th>4</th>\n",
       "      <td>63706</td>\n",
       "      <td>39279</td>\n",
       "      <td>219.00</td>\n",
       "      <td>/kaggle/input/rsna-2023-abdominal-trauma-detec...</td>\n",
       "    </tr>\n",
       "  </tbody>\n",
       "</table>\n",
       "</div>"
      ],
      "text/plain": [
       "   patient_id  series_id  aortic_hu  \\\n",
       "0       48843        295     401.25   \n",
       "1       48843      62825     238.00   \n",
       "2       50046      24574     149.00   \n",
       "3       50046      60658     352.00   \n",
       "4       63706      39279     219.00   \n",
       "\n",
       "                                        dicom_folder  \n",
       "0  /kaggle/input/rsna-2023-abdominal-trauma-detec...  \n",
       "1  /kaggle/input/rsna-2023-abdominal-trauma-detec...  \n",
       "2  /kaggle/input/rsna-2023-abdominal-trauma-detec...  \n",
       "3  /kaggle/input/rsna-2023-abdominal-trauma-detec...  \n",
       "4  /kaggle/input/rsna-2023-abdominal-trauma-detec...  "
      ]
     },
     "execution_count": 11,
     "metadata": {},
     "output_type": "execute_result"
    }
   ],
   "source": [
    "#PREPROCESSING \n",
    "\n",
    "meta_df[\"dicom_folder\"] = BASE_PATH + \"/\" + \"test_images\"\\\n",
    "                                    + \"/\" + meta_df.patient_id.astype(str)\\\n",
    "                                    + \"/\" + meta_df.series_id.astype(str)\n",
    "\n",
    "meta_df.head()"
   ]
  },
  {
   "cell_type": "code",
   "execution_count": 12,
   "id": "aa61d38b",
   "metadata": {
    "execution": {
     "iopub.execute_input": "2023-09-03T07:03:20.859107Z",
     "iopub.status.busy": "2023-09-03T07:03:20.858650Z",
     "iopub.status.idle": "2023-09-03T07:03:20.930011Z",
     "shell.execute_reply": "2023-09-03T07:03:20.928990Z"
    },
    "papermill": {
     "duration": 0.08968,
     "end_time": "2023-09-03T07:03:20.932421",
     "exception": false,
     "start_time": "2023-09-03T07:03:20.842741",
     "status": "completed"
    },
    "tags": []
   },
   "outputs": [
    {
     "data": {
      "application/vnd.jupyter.widget-view+json": {
       "model_id": "26b2766f8630440ea39683018b058f24",
       "version_major": 2,
       "version_minor": 0
      },
      "text/plain": [
       "  0%|          | 0/6 [00:00<?, ?it/s]"
      ]
     },
     "metadata": {},
     "output_type": "display_data"
    }
   ],
   "source": [
    "test_folders = meta_df.dicom_folder.to_list()\n",
    "test_paths = []\n",
    "for folder in tqdm(test_folders):\n",
    "    test_paths += sorted(glob(os.path.join(folder, '*dcm')))[::STRIDE]"
   ]
  },
  {
   "cell_type": "code",
   "execution_count": 13,
   "id": "0bc3b296",
   "metadata": {
    "execution": {
     "iopub.execute_input": "2023-09-03T07:03:20.963733Z",
     "iopub.status.busy": "2023-09-03T07:03:20.963294Z",
     "iopub.status.idle": "2023-09-03T07:03:20.987123Z",
     "shell.execute_reply": "2023-09-03T07:03:20.986242Z"
    },
    "papermill": {
     "duration": 0.042455,
     "end_time": "2023-09-03T07:03:20.989630",
     "exception": false,
     "start_time": "2023-09-03T07:03:20.947175",
     "status": "completed"
    },
    "tags": []
   },
   "outputs": [
    {
     "data": {
      "text/html": [
       "<div>\n",
       "<style scoped>\n",
       "    .dataframe tbody tr th:only-of-type {\n",
       "        vertical-align: middle;\n",
       "    }\n",
       "\n",
       "    .dataframe tbody tr th {\n",
       "        vertical-align: top;\n",
       "    }\n",
       "\n",
       "    .dataframe thead th {\n",
       "        text-align: right;\n",
       "    }\n",
       "</style>\n",
       "<table border=\"1\" class=\"dataframe\">\n",
       "  <thead>\n",
       "    <tr style=\"text-align: right;\">\n",
       "      <th></th>\n",
       "      <th>dicom_path</th>\n",
       "      <th>patient_id</th>\n",
       "      <th>series_id</th>\n",
       "      <th>instance_number</th>\n",
       "      <th>image_path</th>\n",
       "    </tr>\n",
       "  </thead>\n",
       "  <tbody>\n",
       "    <tr>\n",
       "      <th>0</th>\n",
       "      <td>/kaggle/input/rsna-2023-abdominal-trauma-detec...</td>\n",
       "      <td>48843</td>\n",
       "      <td>62825</td>\n",
       "      <td>30</td>\n",
       "      <td>/tmp/dataset/rsna-atd/test_images/48843/62825/...</td>\n",
       "    </tr>\n",
       "    <tr>\n",
       "      <th>1</th>\n",
       "      <td>/kaggle/input/rsna-2023-abdominal-trauma-detec...</td>\n",
       "      <td>50046</td>\n",
       "      <td>24574</td>\n",
       "      <td>30</td>\n",
       "      <td>/tmp/dataset/rsna-atd/test_images/50046/24574/...</td>\n",
       "    </tr>\n",
       "    <tr>\n",
       "      <th>2</th>\n",
       "      <td>/kaggle/input/rsna-2023-abdominal-trauma-detec...</td>\n",
       "      <td>63706</td>\n",
       "      <td>39279</td>\n",
       "      <td>30</td>\n",
       "      <td>/tmp/dataset/rsna-atd/test_images/63706/39279/...</td>\n",
       "    </tr>\n",
       "  </tbody>\n",
       "</table>\n",
       "</div>"
      ],
      "text/plain": [
       "                                          dicom_path  patient_id  series_id  \\\n",
       "0  /kaggle/input/rsna-2023-abdominal-trauma-detec...       48843      62825   \n",
       "1  /kaggle/input/rsna-2023-abdominal-trauma-detec...       50046      24574   \n",
       "2  /kaggle/input/rsna-2023-abdominal-trauma-detec...       63706      39279   \n",
       "\n",
       "   instance_number                                         image_path  \n",
       "0               30  /tmp/dataset/rsna-atd/test_images/48843/62825/...  \n",
       "1               30  /tmp/dataset/rsna-atd/test_images/50046/24574/...  \n",
       "2               30  /tmp/dataset/rsna-atd/test_images/63706/39279/...  "
      ]
     },
     "execution_count": 13,
     "metadata": {},
     "output_type": "execute_result"
    }
   ],
   "source": [
    "test_df = pd.DataFrame(test_paths, columns=[\"dicom_path\"])\n",
    "test_df[\"patient_id\"] = test_df.dicom_path.map(lambda x: x.split(\"/\")[-3]).astype(int)\n",
    "test_df[\"series_id\"] = test_df.dicom_path.map(lambda x: x.split(\"/\")[-2]).astype(int)\n",
    "test_df[\"instance_number\"] = test_df.dicom_path.map(lambda x: x.split(\"/\")[-1].replace(\".dcm\",\"\")).astype(int)\n",
    "\n",
    "test_df[\"image_path\"] = f\"{IMAGE_DIR}/test_images\"\\\n",
    "                    + \"/\" + test_df.patient_id.astype(str)\\\n",
    "                    + \"/\" + test_df.series_id.astype(str)\\\n",
    "                    + \"/\" + test_df.instance_number.astype(str) +\".png\"\n",
    "\n",
    "test_df.head()"
   ]
  },
  {
   "cell_type": "code",
   "execution_count": 14,
   "id": "2c728847",
   "metadata": {
    "execution": {
     "iopub.execute_input": "2023-09-03T07:03:21.021237Z",
     "iopub.status.busy": "2023-09-03T07:03:21.020445Z",
     "iopub.status.idle": "2023-09-03T07:03:21.029808Z",
     "shell.execute_reply": "2023-09-03T07:03:21.028398Z"
    },
    "papermill": {
     "duration": 0.028307,
     "end_time": "2023-09-03T07:03:21.032561",
     "exception": false,
     "start_time": "2023-09-03T07:03:21.004254",
     "status": "completed"
    },
    "tags": []
   },
   "outputs": [
    {
     "name": "stdout",
     "output_type": "stream",
     "text": [
      "num_rows=3\n",
      "unique_patients=3\n"
     ]
    }
   ],
   "source": [
    "# Checking if patients are repeated by finding the number of unique patient IDs\n",
    "num_rows = test_df.shape[0]\n",
    "unique_patients = test_df[\"patient_id\"].nunique()\n",
    "\n",
    "print(f\"{num_rows=}\")\n",
    "print(f\"{unique_patients=}\")\n"
   ]
  },
  {
   "cell_type": "markdown",
   "id": "bc95c656",
   "metadata": {
    "papermill": {
     "duration": 0.014208,
     "end_time": "2023-09-03T07:03:21.061701",
     "exception": false,
     "start_time": "2023-09-03T07:03:21.047493",
     "status": "completed"
    },
    "tags": []
   },
   "source": [
    "DICOM TO PNG PIPELINE"
   ]
  },
  {
   "cell_type": "code",
   "execution_count": 15,
   "id": "a775e9a3",
   "metadata": {
    "execution": {
     "iopub.execute_input": "2023-09-03T07:03:21.092658Z",
     "iopub.status.busy": "2023-09-03T07:03:21.092239Z",
     "iopub.status.idle": "2023-09-03T07:03:22.225219Z",
     "shell.execute_reply": "2023-09-03T07:03:22.223506Z"
    },
    "papermill": {
     "duration": 1.15204,
     "end_time": "2023-09-03T07:03:22.228631",
     "exception": false,
     "start_time": "2023-09-03T07:03:21.076591",
     "status": "completed"
    },
    "tags": []
   },
   "outputs": [
    {
     "name": "stdout",
     "output_type": "stream",
     "text": [
      "rm: cannot remove '/tmp/dataset/rsna-atd': No such file or directory\r\n"
     ]
    }
   ],
   "source": [
    "!rm -r {IMAGE_DIR}\n",
    "os.makedirs(f\"{IMAGE_DIR}/train_images\", exist_ok=True)\n",
    "os.makedirs(f\"{IMAGE_DIR}/test_images\", exist_ok=True)"
   ]
  },
  {
   "cell_type": "code",
   "execution_count": 16,
   "id": "7752438b",
   "metadata": {
    "execution": {
     "iopub.execute_input": "2023-09-03T07:03:22.260591Z",
     "iopub.status.busy": "2023-09-03T07:03:22.260135Z",
     "iopub.status.idle": "2023-09-03T07:03:22.276334Z",
     "shell.execute_reply": "2023-09-03T07:03:22.274995Z"
    },
    "papermill": {
     "duration": 0.035607,
     "end_time": "2023-09-03T07:03:22.279140",
     "exception": false,
     "start_time": "2023-09-03T07:03:22.243533",
     "status": "completed"
    },
    "tags": []
   },
   "outputs": [],
   "source": [
    "def standardize_pixel_array(dcm):\n",
    "    # Correct DICOM pixel_array if PixelRepresentation == 1.\n",
    "    pixel_array = dcm.pixel_array\n",
    "    if dcm.PixelRepresentation == 1:\n",
    "        bit_shift = dcm.BitsAllocated - dcm.BitsStored\n",
    "        dtype = pixel_array.dtype \n",
    "        new_array = (pixel_array << bit_shift).astype(dtype) >>  bit_shift\n",
    "        pixel_array = pydicom.pixel_data_handlers.util.apply_modality_lut(new_array, dcm)\n",
    "    return pixel_array\n",
    "\n",
    "def read_xray(path, fix_monochrome=True):\n",
    "    dicom = pydicom.dcmread(path)\n",
    "    data = standardize_pixel_array(dicom)\n",
    "    data = data - np.min(data)\n",
    "    data = data / (np.max(data) + 1e-5)\n",
    "    if fix_monochrome and dicom.PhotometricInterpretation == \"MONOCHROME1\":\n",
    "        data = 1.0 - data\n",
    "    return data\n",
    "\n",
    "def resize_and_save(file_path):\n",
    "    img = read_xray(file_path)\n",
    "    h, w = img.shape[:2]  # orig hw\n",
    "    img = cv2.resize(img, (config.RESIZE_DIM, config.RESIZE_DIM), cv2.INTER_LINEAR)\n",
    "    img = (img * 255).astype(np.uint8)\n",
    "    \n",
    "    sub_path = file_path.split(\"/\",4)[-1].split(\".dcm\")[0] + \".png\"\n",
    "    infos = sub_path.split(\"/\")\n",
    "    sub_path = file_path.split(\"/\",4)[-1].split(\".dcm\")[0] + \".png\"\n",
    "    infos = sub_path.split(\"/\")\n",
    "    pid = infos[-3]\n",
    "    sid = infos[-2]\n",
    "    iid = infos[-1]; iid = iid.replace(\".png\",\"\")\n",
    "    new_path = os.path.join(IMAGE_DIR, sub_path)\n",
    "    os.makedirs(new_path.rsplit(\"/\",1)[0], exist_ok=True)\n",
    "    cv2.imwrite(new_path, img)\n",
    "    return"
   ]
  },
  {
   "cell_type": "code",
   "execution_count": 17,
   "id": "e9255d1f",
   "metadata": {
    "execution": {
     "iopub.execute_input": "2023-09-03T07:03:22.311746Z",
     "iopub.status.busy": "2023-09-03T07:03:22.311322Z",
     "iopub.status.idle": "2023-09-03T07:03:22.799135Z",
     "shell.execute_reply": "2023-09-03T07:03:22.798027Z"
    },
    "papermill": {
     "duration": 0.507792,
     "end_time": "2023-09-03T07:03:22.801814",
     "exception": false,
     "start_time": "2023-09-03T07:03:22.294022",
     "status": "completed"
    },
    "tags": []
   },
   "outputs": [
    {
     "data": {
      "application/vnd.jupyter.widget-view+json": {
       "model_id": "f1a0137045174a36bb6fba96717c9a2c",
       "version_major": 2,
       "version_minor": 0
      },
      "text/plain": [
       "  0%|          | 0/3 [00:00<?, ?it/s]"
      ]
     },
     "metadata": {},
     "output_type": "display_data"
    },
    {
     "name": "stdout",
     "output_type": "stream",
     "text": [
      "CPU times: user 390 ms, sys: 61.3 ms, total: 451 ms\n",
      "Wall time: 476 ms\n"
     ]
    },
    {
     "data": {
      "text/plain": [
       "117"
      ]
     },
     "execution_count": 17,
     "metadata": {},
     "output_type": "execute_result"
    }
   ],
   "source": [
    "%%time\n",
    "\n",
    "file_paths = test_df.dicom_path.tolist()\n",
    "_ = Parallel(n_jobs=2, backend=\"threading\")(\n",
    "    delayed(resize_and_save)(file_path) for file_path in tqdm(file_paths, leave=True, position=0)\n",
    ")\n",
    "\n",
    "del _; gc.collect()"
   ]
  },
  {
   "cell_type": "markdown",
   "id": "f9f6e74b",
   "metadata": {
    "papermill": {
     "duration": 0.015428,
     "end_time": "2023-09-03T07:03:22.832626",
     "exception": false,
     "start_time": "2023-09-03T07:03:22.817198",
     "status": "completed"
    },
    "tags": []
   },
   "source": [
    "tf.data pipeline"
   ]
  },
  {
   "cell_type": "code",
   "execution_count": 18,
   "id": "040b7804",
   "metadata": {
    "execution": {
     "iopub.execute_input": "2023-09-03T07:03:22.864782Z",
     "iopub.status.busy": "2023-09-03T07:03:22.864349Z",
     "iopub.status.idle": "2023-09-03T07:03:22.873163Z",
     "shell.execute_reply": "2023-09-03T07:03:22.871859Z"
    },
    "papermill": {
     "duration": 0.027929,
     "end_time": "2023-09-03T07:03:22.875726",
     "exception": false,
     "start_time": "2023-09-03T07:03:22.847797",
     "status": "completed"
    },
    "tags": []
   },
   "outputs": [],
   "source": [
    "def decode_image(image_path):\n",
    "    file_bytes = tf.io.read_file(image_path)\n",
    "    image = tf.io.decode_png(file_bytes, channels=3, dtype=tf.uint8)\n",
    "    image = tf.image.resize(image, config.IMAGE_SIZE, method=\"bilinear\")\n",
    "    image = tf.cast(image, tf.float32) / 255.0\n",
    "    return image\n",
    "\n",
    "def build_dataset(image_paths):\n",
    "    ds = (\n",
    "        tf.data.Dataset.from_tensor_slices(image_paths)\n",
    "        .map(decode_image, num_parallel_calls=config.AUTOTUNE)\n",
    "        .shuffle(config.BATCH_SIZE * 10)\n",
    "        .batch(config.BATCH_SIZE)\n",
    "        .prefetch(config.AUTOTUNE)\n",
    "    )\n",
    "    return ds"
   ]
  },
  {
   "cell_type": "code",
   "execution_count": 19,
   "id": "4ec62595",
   "metadata": {
    "execution": {
     "iopub.execute_input": "2023-09-03T07:03:22.909027Z",
     "iopub.status.busy": "2023-09-03T07:03:22.908605Z",
     "iopub.status.idle": "2023-09-03T07:03:23.170209Z",
     "shell.execute_reply": "2023-09-03T07:03:23.168906Z"
    },
    "papermill": {
     "duration": 0.282582,
     "end_time": "2023-09-03T07:03:23.173467",
     "exception": false,
     "start_time": "2023-09-03T07:03:22.890885",
     "status": "completed"
    },
    "tags": []
   },
   "outputs": [
    {
     "data": {
      "text/plain": [
       "TensorShape([3, 256, 256, 3])"
      ]
     },
     "execution_count": 19,
     "metadata": {},
     "output_type": "execute_result"
    }
   ],
   "source": [
    "paths = test_df.image_path.to_list()\n",
    "\n",
    "ds = build_dataset(paths)\n",
    "\n",
    "images = next(iter(ds))\n",
    "\n",
    "images.shape"
   ]
  },
  {
   "cell_type": "code",
   "execution_count": 20,
   "id": "3cf65033",
   "metadata": {
    "execution": {
     "iopub.execute_input": "2023-09-03T07:03:23.206816Z",
     "iopub.status.busy": "2023-09-03T07:03:23.206422Z",
     "iopub.status.idle": "2023-09-03T07:03:23.543322Z",
     "shell.execute_reply": "2023-09-03T07:03:23.542079Z"
    },
    "papermill": {
     "duration": 0.357139,
     "end_time": "2023-09-03T07:03:23.546371",
     "exception": false,
     "start_time": "2023-09-03T07:03:23.189232",
     "status": "completed"
    },
    "tags": []
   },
   "outputs": [
    {
     "data": {
      "image/png": "[encoded data removed]",
      "text/plain": [
       "<Figure size 600x200 with 3 Axes>"
      ]
     },
     "metadata": {},
     "output_type": "display_data"
    }
   ],
   "source": [
    "keras_cv.visualization.plot_image_gallery(\n",
    "    images=images,\n",
    "    value_range=(0, 1),\n",
    "    rows=1,\n",
    "    cols=3,\n",
    ")"
   ]
  },
  {
   "cell_type": "code",
   "execution_count": 21,
   "id": "b9b94742",
   "metadata": {
    "execution": {
     "iopub.execute_input": "2023-09-03T07:03:23.580902Z",
     "iopub.status.busy": "2023-09-03T07:03:23.580498Z",
     "iopub.status.idle": "2023-09-03T07:03:23.590052Z",
     "shell.execute_reply": "2023-09-03T07:03:23.588822Z"
    },
    "papermill": {
     "duration": 0.032349,
     "end_time": "2023-09-03T07:03:23.595018",
     "exception": false,
     "start_time": "2023-09-03T07:03:23.562669",
     "status": "completed"
    },
    "tags": []
   },
   "outputs": [],
   "source": [
    "def post_proc(pred):\n",
    "    proc_pred = np.empty((pred.shape[0], 2*2 + 3*3), dtype=\"float32\")\n",
    "\n",
    "    # bowel, extravasation\n",
    "    proc_pred[:, 0] = pred[:, 0]\n",
    "    proc_pred[:, 1] = 1 - proc_pred[:, 0]\n",
    "    proc_pred[:, 2] = pred[:, 1]\n",
    "    proc_pred[:, 3] = 1 - proc_pred[:, 2]\n",
    "    \n",
    "    # liver, kidney, sneel\n",
    "    proc_pred[:, 4:7] = pred[:, 2:5]\n",
    "    proc_pred[:, 7:10] = pred[:, 5:8]\n",
    "    proc_pred[:, 10:13] = pred[:, 8:11]\n",
    "\n",
    "    return proc_pred"
   ]
  },
  {
   "cell_type": "code",
   "execution_count": 22,
   "id": "d13ee443",
   "metadata": {
    "execution": {
     "iopub.execute_input": "2023-09-03T07:03:23.630654Z",
     "iopub.status.busy": "2023-09-03T07:03:23.630172Z",
     "iopub.status.idle": "2023-09-03T07:03:25.898511Z",
     "shell.execute_reply": "2023-09-03T07:03:25.897045Z"
    },
    "papermill": {
     "duration": 2.289718,
     "end_time": "2023-09-03T07:03:25.901862",
     "exception": false,
     "start_time": "2023-09-03T07:03:23.612144",
     "status": "completed"
    },
    "tags": []
   },
   "outputs": [
    {
     "data": {
      "application/vnd.jupyter.widget-view+json": {
       "model_id": "0668f6d2a85647cd8d9c3f788748665a",
       "version_major": 2,
       "version_minor": 0
      },
      "text/plain": [
       "Patients :   0%|          | 0/3 [00:00<?, ?it/s]"
      ]
     },
     "metadata": {},
     "output_type": "display_data"
    },
    {
     "name": "stdout",
     "output_type": "stream",
     "text": [
      "Patient ID: 48843\n",
      "\u001b[1m1/1\u001b[0m \u001b[32m━━━━━━━━━━━━━━━━━━━━\u001b[0m\u001b[37m\u001b[0m \u001b[1m1s\u001b[0m 1s/step\n",
      "Patient ID: 50046\n",
      "\u001b[1m1/1\u001b[0m \u001b[32m━━━━━━━━━━━━━━━━━━━━\u001b[0m\u001b[37m\u001b[0m \u001b[1m0s\u001b[0m 35ms/step\n",
      "Patient ID: 63706\n",
      "\u001b[1m1/1\u001b[0m \u001b[32m━━━━━━━━━━━━━━━━━━━━\u001b[0m\u001b[37m\u001b[0m \u001b[1m0s\u001b[0m 26ms/step\n"
     ]
    }
   ],
   "source": [
    "# Getting unique patient IDs from test dataset\n",
    "patient_ids = test_df[\"patient_id\"].unique()\n",
    "\n",
    "# Initializing array to store predictions\n",
    "patient_preds = np.zeros(\n",
    "    shape=(len(patient_ids), 2*2 + 3*3),\n",
    "    dtype=\"float32\"\n",
    ")\n",
    "\n",
    "# Iterating over each patient\n",
    "for pidx, patient_id in tqdm(enumerate(patient_ids), total=len(patient_ids), desc=\"Patients \"):\n",
    "    print(f\"Patient ID: {patient_id}\")\n",
    "    \n",
    "    # Query the dataframe for a particular patient\n",
    "    \n",
    "    patient_df = test_df.query(\"patient_id == patient_id\")\n",
    "    \n",
    "    # Getting image paths for a patient\n",
    "    patient_paths = patient_df.image_path.tolist()\n",
    "\n",
    "    # Building dataset for prediction\n",
    "    dtest = build_dataset(patient_paths)\n",
    "    \n",
    "    # Predicting with the model\n",
    "    pred = model.predict(dtest)\n",
    "    pred = np.concatenate(pred, axis=-1).astype(\"float32\")\n",
    "    pred = pred[:len(patient_paths), :]\n",
    "    pred = np.mean(pred.reshape(1, len(patient_paths), 11), axis=0)\n",
    "    pred = np.max(pred, axis=0, keepdims=True)\n",
    "    \n",
    "    patient_preds[pidx, :] += post_proc(pred)[0]\n",
    "    \n",
    "\n",
    "    # Deleting variables to free up memory \n",
    "    del patient_df, patient_paths, dtest, pred; gc.collect()"
   ]
  },
  {
   "cell_type": "markdown",
   "id": "3d706a72",
   "metadata": {
    "papermill": {
     "duration": 0.016989,
     "end_time": "2023-09-03T07:03:25.935974",
     "exception": false,
     "start_time": "2023-09-03T07:03:25.918985",
     "status": "completed"
    },
    "tags": []
   },
   "source": [
    "Submission"
   ]
  },
  {
   "cell_type": "code",
   "execution_count": 23,
   "id": "4fdf7e6b",
   "metadata": {
    "execution": {
     "iopub.execute_input": "2023-09-03T07:03:26.038436Z",
     "iopub.status.busy": "2023-09-03T07:03:26.037972Z",
     "iopub.status.idle": "2023-09-03T07:03:27.154151Z",
     "shell.execute_reply": "2023-09-03T07:03:27.152475Z"
    },
    "papermill": {
     "duration": 1.204303,
     "end_time": "2023-09-03T07:03:27.157255",
     "exception": false,
     "start_time": "2023-09-03T07:03:25.952952",
     "status": "completed"
    },
    "tags": []
   },
   "outputs": [],
   "source": [
    "!rm -rf {MODEL_PATH}\n"
   ]
  },
  {
   "cell_type": "code",
   "execution_count": 24,
   "id": "87b6cbc9",
   "metadata": {
    "execution": {
     "iopub.execute_input": "2023-09-03T07:03:27.195354Z",
     "iopub.status.busy": "2023-09-03T07:03:27.194905Z",
     "iopub.status.idle": "2023-09-03T07:03:27.248566Z",
     "shell.execute_reply": "2023-09-03T07:03:27.247248Z"
    },
    "papermill": {
     "duration": 0.075547,
     "end_time": "2023-09-03T07:03:27.251347",
     "exception": false,
     "start_time": "2023-09-03T07:03:27.175800",
     "status": "completed"
    },
    "tags": []
   },
   "outputs": [
    {
     "data": {
      "text/html": [
       "<div>\n",
       "<style scoped>\n",
       "    .dataframe tbody tr th:only-of-type {\n",
       "        vertical-align: middle;\n",
       "    }\n",
       "\n",
       "    .dataframe tbody tr th {\n",
       "        vertical-align: top;\n",
       "    }\n",
       "\n",
       "    .dataframe thead th {\n",
       "        text-align: right;\n",
       "    }\n",
       "</style>\n",
       "<table border=\"1\" class=\"dataframe\">\n",
       "  <thead>\n",
       "    <tr style=\"text-align: right;\">\n",
       "      <th></th>\n",
       "      <th>patient_id</th>\n",
       "      <th>bowel_healthy</th>\n",
       "      <th>bowel_injury</th>\n",
       "      <th>extravasation_healthy</th>\n",
       "      <th>extravasation_injury</th>\n",
       "      <th>kidney_healthy</th>\n",
       "      <th>kidney_low</th>\n",
       "      <th>kidney_high</th>\n",
       "      <th>liver_healthy</th>\n",
       "      <th>liver_low</th>\n",
       "      <th>liver_high</th>\n",
       "      <th>spleen_healthy</th>\n",
       "      <th>spleen_low</th>\n",
       "      <th>spleen_high</th>\n",
       "    </tr>\n",
       "  </thead>\n",
       "  <tbody>\n",
       "    <tr>\n",
       "      <th>0</th>\n",
       "      <td>48843</td>\n",
       "      <td>0.564078</td>\n",
       "      <td>0.435922</td>\n",
       "      <td>0.620353</td>\n",
       "      <td>0.379647</td>\n",
       "      <td>0.85583</td>\n",
       "      <td>0.108929</td>\n",
       "      <td>0.094243</td>\n",
       "      <td>0.772142</td>\n",
       "      <td>0.21276</td>\n",
       "      <td>0.081506</td>\n",
       "      <td>0.632719</td>\n",
       "      <td>0.225277</td>\n",
       "      <td>0.202442</td>\n",
       "    </tr>\n",
       "    <tr>\n",
       "      <th>1</th>\n",
       "      <td>50046</td>\n",
       "      <td>0.564078</td>\n",
       "      <td>0.435922</td>\n",
       "      <td>0.620353</td>\n",
       "      <td>0.379647</td>\n",
       "      <td>0.85583</td>\n",
       "      <td>0.108929</td>\n",
       "      <td>0.094243</td>\n",
       "      <td>0.772142</td>\n",
       "      <td>0.21276</td>\n",
       "      <td>0.081506</td>\n",
       "      <td>0.632719</td>\n",
       "      <td>0.225277</td>\n",
       "      <td>0.202442</td>\n",
       "    </tr>\n",
       "    <tr>\n",
       "      <th>2</th>\n",
       "      <td>63706</td>\n",
       "      <td>0.564078</td>\n",
       "      <td>0.435922</td>\n",
       "      <td>0.620353</td>\n",
       "      <td>0.379647</td>\n",
       "      <td>0.85583</td>\n",
       "      <td>0.108929</td>\n",
       "      <td>0.094243</td>\n",
       "      <td>0.772142</td>\n",
       "      <td>0.21276</td>\n",
       "      <td>0.081506</td>\n",
       "      <td>0.632719</td>\n",
       "      <td>0.225277</td>\n",
       "      <td>0.202442</td>\n",
       "    </tr>\n",
       "  </tbody>\n",
       "</table>\n",
       "</div>"
      ],
      "text/plain": [
       "   patient_id  bowel_healthy  bowel_injury  extravasation_healthy  \\\n",
       "0       48843       0.564078      0.435922               0.620353   \n",
       "1       50046       0.564078      0.435922               0.620353   \n",
       "2       63706       0.564078      0.435922               0.620353   \n",
       "\n",
       "   extravasation_injury  kidney_healthy  kidney_low  kidney_high  \\\n",
       "0              0.379647         0.85583    0.108929     0.094243   \n",
       "1              0.379647         0.85583    0.108929     0.094243   \n",
       "2              0.379647         0.85583    0.108929     0.094243   \n",
       "\n",
       "   liver_healthy  liver_low  liver_high  spleen_healthy  spleen_low  \\\n",
       "0       0.772142    0.21276    0.081506        0.632719    0.225277   \n",
       "1       0.772142    0.21276    0.081506        0.632719    0.225277   \n",
       "2       0.772142    0.21276    0.081506        0.632719    0.225277   \n",
       "\n",
       "   spleen_high  \n",
       "0     0.202442  \n",
       "1     0.202442  \n",
       "2     0.202442  "
      ]
     },
     "execution_count": 24,
     "metadata": {},
     "output_type": "execute_result"
    }
   ],
   "source": [
    "# Create Submission\n",
    "pred_df = pd.DataFrame({\"patient_id\":patient_ids,})\n",
    "pred_df[config.TARGET_COLS] = patient_preds.astype(\"float32\")\n",
    "\n",
    "# Align with sample submission\n",
    "sub_df = pd.read_csv(f\"{BASE_PATH}/sample_submission.csv\")\n",
    "sub_df = sub_df[[\"patient_id\"]]\n",
    "sub_df = sub_df.merge(pred_df, on=\"patient_id\", how=\"left\")\n",
    "\n",
    "# Store submission\n",
    "sub_df.to_csv(\"submission.csv\",index=False)\n",
    "sub_df.head()"
   ]
  },
  {
   "cell_type": "code",
   "execution_count": 25,
   "id": "7911fa52",
   "metadata": {
    "execution": {
     "iopub.execute_input": "2023-09-03T07:03:27.288346Z",
     "iopub.status.busy": "2023-09-03T07:03:27.287915Z",
     "iopub.status.idle": "2023-09-03T07:03:27.308137Z",
     "shell.execute_reply": "2023-09-03T07:03:27.307059Z"
    },
    "papermill": {
     "duration": 0.041462,
     "end_time": "2023-09-03T07:03:27.310519",
     "exception": false,
     "start_time": "2023-09-03T07:03:27.269057",
     "status": "completed"
    },
    "tags": []
   },
   "outputs": [
    {
     "data": {
      "text/html": [
       "<div>\n",
       "<style scoped>\n",
       "    .dataframe tbody tr th:only-of-type {\n",
       "        vertical-align: middle;\n",
       "    }\n",
       "\n",
       "    .dataframe tbody tr th {\n",
       "        vertical-align: top;\n",
       "    }\n",
       "\n",
       "    .dataframe thead th {\n",
       "        text-align: right;\n",
       "    }\n",
       "</style>\n",
       "<table border=\"1\" class=\"dataframe\">\n",
       "  <thead>\n",
       "    <tr style=\"text-align: right;\">\n",
       "      <th></th>\n",
       "      <th>patient_id</th>\n",
       "      <th>bowel_healthy</th>\n",
       "      <th>bowel_injury</th>\n",
       "      <th>extravasation_healthy</th>\n",
       "      <th>extravasation_injury</th>\n",
       "      <th>kidney_healthy</th>\n",
       "      <th>kidney_low</th>\n",
       "      <th>kidney_high</th>\n",
       "      <th>liver_healthy</th>\n",
       "      <th>liver_low</th>\n",
       "      <th>liver_high</th>\n",
       "      <th>spleen_healthy</th>\n",
       "      <th>spleen_low</th>\n",
       "      <th>spleen_high</th>\n",
       "    </tr>\n",
       "  </thead>\n",
       "  <tbody>\n",
       "    <tr>\n",
       "      <th>0</th>\n",
       "      <td>48843</td>\n",
       "      <td>0.564078</td>\n",
       "      <td>0.435922</td>\n",
       "      <td>0.620353</td>\n",
       "      <td>0.379647</td>\n",
       "      <td>0.85583</td>\n",
       "      <td>0.108929</td>\n",
       "      <td>0.094243</td>\n",
       "      <td>0.772142</td>\n",
       "      <td>0.21276</td>\n",
       "      <td>0.081506</td>\n",
       "      <td>0.632719</td>\n",
       "      <td>0.225277</td>\n",
       "      <td>0.202442</td>\n",
       "    </tr>\n",
       "    <tr>\n",
       "      <th>1</th>\n",
       "      <td>50046</td>\n",
       "      <td>0.564078</td>\n",
       "      <td>0.435922</td>\n",
       "      <td>0.620353</td>\n",
       "      <td>0.379647</td>\n",
       "      <td>0.85583</td>\n",
       "      <td>0.108929</td>\n",
       "      <td>0.094243</td>\n",
       "      <td>0.772142</td>\n",
       "      <td>0.21276</td>\n",
       "      <td>0.081506</td>\n",
       "      <td>0.632719</td>\n",
       "      <td>0.225277</td>\n",
       "      <td>0.202442</td>\n",
       "    </tr>\n",
       "    <tr>\n",
       "      <th>2</th>\n",
       "      <td>63706</td>\n",
       "      <td>0.564078</td>\n",
       "      <td>0.435922</td>\n",
       "      <td>0.620353</td>\n",
       "      <td>0.379647</td>\n",
       "      <td>0.85583</td>\n",
       "      <td>0.108929</td>\n",
       "      <td>0.094243</td>\n",
       "      <td>0.772142</td>\n",
       "      <td>0.21276</td>\n",
       "      <td>0.081506</td>\n",
       "      <td>0.632719</td>\n",
       "      <td>0.225277</td>\n",
       "      <td>0.202442</td>\n",
       "    </tr>\n",
       "  </tbody>\n",
       "</table>\n",
       "</div>"
      ],
      "text/plain": [
       "   patient_id  bowel_healthy  bowel_injury  extravasation_healthy  \\\n",
       "0       48843       0.564078      0.435922               0.620353   \n",
       "1       50046       0.564078      0.435922               0.620353   \n",
       "2       63706       0.564078      0.435922               0.620353   \n",
       "\n",
       "   extravasation_injury  kidney_healthy  kidney_low  kidney_high  \\\n",
       "0              0.379647         0.85583    0.108929     0.094243   \n",
       "1              0.379647         0.85583    0.108929     0.094243   \n",
       "2              0.379647         0.85583    0.108929     0.094243   \n",
       "\n",
       "   liver_healthy  liver_low  liver_high  spleen_healthy  spleen_low  \\\n",
       "0       0.772142    0.21276    0.081506        0.632719    0.225277   \n",
       "1       0.772142    0.21276    0.081506        0.632719    0.225277   \n",
       "2       0.772142    0.21276    0.081506        0.632719    0.225277   \n",
       "\n",
       "   spleen_high  \n",
       "0     0.202442  \n",
       "1     0.202442  \n",
       "2     0.202442  "
      ]
     },
     "execution_count": 25,
     "metadata": {},
     "output_type": "execute_result"
    }
   ],
   "source": [
    "sub_df.head()"
   ]
  },
  {
   "cell_type": "code",
   "execution_count": null,
   "id": "3760e13c",
   "metadata": {
    "papermill": {
     "duration": 0.018617,
     "end_time": "2023-09-03T07:03:27.347203",
     "exception": false,
     "start_time": "2023-09-03T07:03:27.328586",
     "status": "completed"
    },
    "tags": []
   },
   "outputs": [],
   "source": []
  }
 ],
 "kernelspec": {
  "display_name": "Python 3",
  "language": "python",
  "name": "python3"
 },
 "language_info": {
  "codemirror_mode": {
   "name": "ipython",
   "version": 3
  },
  "file_extension": ".py",
  "mimetype": "text/x-python",
  "name": "python",
  "nbconvert_exporter": "python",
  "pygments_lexer": "ipython3",
  "version": "3.6.4"
 },
 "metadata": {
  "kernelspec": {
   "display_name": "Python 3",
   "language": "python",
   "name": "python3"
  },
  "language_info": {
   "codemirror_mode": {
    "name": "ipython",
    "version": 3
   },
   "file_extension": ".py",
   "mimetype": "text/x-python",
   "name": "python",
   "nbconvert_exporter": "python",
   "pygments_lexer": "ipython3",
   "version": "3.10.12"
  },
  "papermill": {
   "default_parameters": {},
   "duration": 80.658658,
   "end_time": "2023-09-03T07:03:30.129358",
   "environment_variables": {},
   "exception": null,
   "input_path": "__notebook__.ipynb",
   "output_path": "__notebook__.ipynb",
   "parameters": {},
   "start_time": "2023-09-03T07:02:09.470700",
   "version": "2.4.0"
  },
  "widgets": {
   "application/vnd.jupyter.widget-state+json": {
    "state": {
     "0289ba9e6c754a369e0a074b92c0307c": {
      "model_module": "@jupyter-widgets/base",
      "model_module_version": "1.2.0",
      "model_name": "LayoutModel",
      "state": {
       "_model_module": "@jupyter-widgets/base",
       "_model_module_version": "1.2.0",
       "_model_name": "LayoutModel",
       "_view_count": null,
       "_view_module": "@jupyter-widgets/base",
       "_view_module_version": "1.2.0",
       "_view_name": "LayoutView",
       "align_content": null,
       "align_items": null,
       "align_self": null,
       "border": null,
       "bottom": null,
       "display": null,
       "flex": null,
       "flex_flow": null,
       "grid_area": null,
       "grid_auto_columns": null,
       "grid_auto_flow": null,
       "grid_auto_rows": null,
       "grid_column": null,
       "grid_gap": null,
       "grid_row": null,
       "grid_template_areas": null,
       "grid_template_columns": null,
       "grid_template_rows": null,
       "height": null,
       "justify_content": null,
       "justify_items": null,
       "left": null,
       "margin": null,
       "max_height": null,
       "max_width": null,
       "min_height": null,
       "min_width": null,
       "object_fit": null,
       "object_position": null,
       "order": null,
       "overflow": null,
       "overflow_x": null,
       "overflow_y": null,
       "padding": null,
       "right": null,
       "top": null,
       "visibility": null,
       "width": null
      }
     },
     "0668f6d2a85647cd8d9c3f788748665a": {
      "model_module": "@jupyter-widgets/controls",
      "model_module_version": "1.5.0",
      "model_name": "HBoxModel",
      "state": {
       "_dom_classes": [],
       "_model_module": "@jupyter-widgets/controls",
       "_model_module_version": "1.5.0",
       "_model_name": "HBoxModel",
       "_view_count": null,
       "_view_module": "@jupyter-widgets/controls",
       "_view_module_version": "1.5.0",
       "_view_name": "HBoxView",
       "box_style": "",
       "children": [
        "IPY_MODEL_a4e07fe20bdd4ed5b9ae44d8f00a4f5c",
        "IPY_MODEL_338311bcb93d4ffab012f8431b79f348",
        "IPY_MODEL_9f4a74baa43f40798b0978e0e98f210a"
       ],
       "layout": "IPY_MODEL_2b6dbbdcefd14587bf767fb42dcd1f74"
      }
     },
     "12af8ce464924b31829eb9f75f494487": {
      "model_module": "@jupyter-widgets/base",
      "model_module_version": "1.2.0",
      "model_name": "LayoutModel",
      "state": {
       "_model_module": "@jupyter-widgets/base",
       "_model_module_version": "1.2.0",
       "_model_name": "LayoutModel",
       "_view_count": null,
       "_view_module": "@jupyter-widgets/base",
       "_view_module_version": "1.2.0",
       "_view_name": "LayoutView",
       "align_content": null,
       "align_items": null,
       "align_self": null,
       "border": null,
       "bottom": null,
       "display": null,
       "flex": null,
       "flex_flow": null,
       "grid_area": null,
       "grid_auto_columns": null,
       "grid_auto_flow": null,
       "grid_auto_rows": null,
       "grid_column": null,
       "grid_gap": null,
       "grid_row": null,
       "grid_template_areas": null,
       "grid_template_columns": null,
       "grid_template_rows": null,
       "height": null,
       "justify_content": null,
       "justify_items": null,
       "left": null,
       "margin": null,
       "max_height": null,
       "max_width": null,
       "min_height": null,
       "min_width": null,
       "object_fit": null,
       "object_position": null,
       "order": null,
       "overflow": null,
       "overflow_x": null,
       "overflow_y": null,
       "padding": null,
       "right": null,
       "top": null,
       "visibility": null,
       "width": null
      }
     },
     "19e9c6776aeb42a1a8a5309a3b43e6d1": {
      "model_module": "@jupyter-widgets/controls",
      "model_module_version": "1.5.0",
      "model_name": "HTMLModel",
      "state": {
       "_dom_classes": [],
       "_model_module": "@jupyter-widgets/controls",
       "_model_module_version": "1.5.0",
       "_model_name": "HTMLModel",
       "_view_count": null,
       "_view_module": "@jupyter-widgets/controls",
       "_view_module_version": "1.5.0",
       "_view_name": "HTMLView",
       "description": "",
       "description_tooltip": null,
       "layout": "IPY_MODEL_8c90ec24d98145eeb381075ca7b763ee",
       "placeholder": "​",
       "style": "IPY_MODEL_d84a0af84d5343c49c437943f5771c60",
       "value": "100%"
      }
     },
     "26b2766f8630440ea39683018b058f24": {
      "model_module": "@jupyter-widgets/controls",
      "model_module_version": "1.5.0",
      "model_name": "HBoxModel",
      "state": {
       "_dom_classes": [],
       "_model_module": "@jupyter-widgets/controls",
       "_model_module_version": "1.5.0",
       "_model_name": "HBoxModel",
       "_view_count": null,
       "_view_module": "@jupyter-widgets/controls",
       "_view_module_version": "1.5.0",
       "_view_name": "HBoxView",
       "box_style": "",
       "children": [
        "IPY_MODEL_19e9c6776aeb42a1a8a5309a3b43e6d1",
        "IPY_MODEL_9b062edc4c114fa5861d8e8e25a516f7",
        "IPY_MODEL_86631092932f4b1d81449be1f3e968c0"
       ],
       "layout": "IPY_MODEL_4a15dd88cfe742d39a816d0de8b82e8d"
      }
     },
     "2a7a667dd49b4410b5c8a60ad27f4ef8": {
      "model_module": "@jupyter-widgets/controls",
      "model_module_version": "1.5.0",
      "model_name": "HTMLModel",
      "state": {
       "_dom_classes": [],
       "_model_module": "@jupyter-widgets/controls",
       "_model_module_version": "1.5.0",
       "_model_name": "HTMLModel",
       "_view_count": null,
       "_view_module": "@jupyter-widgets/controls",
       "_view_module_version": "1.5.0",
       "_view_name": "HTMLView",
       "description": "",
       "description_tooltip": null,
       "layout": "IPY_MODEL_38c03ca57b424407b9607fed4311c7e4",
       "placeholder": "​",
       "style": "IPY_MODEL_8cdb191b6b1c46d3998c4009dadd046f",
       "value": " 3/3 [00:00&lt;00:00, 128.34it/s]"
      }
     },
     "2b6dbbdcefd14587bf767fb42dcd1f74": {
      "model_module": "@jupyter-widgets/base",
      "model_module_version": "1.2.0",
      "model_name": "LayoutModel",
      "state": {
       "_model_module": "@jupyter-widgets/base",
       "_model_module_version": "1.2.0",
       "_model_name": "LayoutModel",
       "_view_count": null,
       "_view_module": "@jupyter-widgets/base",
       "_view_module_version": "1.2.0",
       "_view_name": "LayoutView",
       "align_content": null,
       "align_items": null,
       "align_self": null,
       "border": null,
       "bottom": null,
       "display": null,
       "flex": null,
       "flex_flow": null,
       "grid_area": null,
       "grid_auto_columns": null,
       "grid_auto_flow": null,
       "grid_auto_rows": null,
       "grid_column": null,
       "grid_gap": null,
       "grid_row": null,
       "grid_template_areas": null,
       "grid_template_columns": null,
       "grid_template_rows": null,
       "height": null,
       "justify_content": null,
       "justify_items": null,
       "left": null,
       "margin": null,
       "max_height": null,
       "max_width": null,
       "min_height": null,
       "min_width": null,
       "object_fit": null,
       "object_position": null,
       "order": null,
       "overflow": null,
       "overflow_x": null,
       "overflow_y": null,
       "padding": null,
       "right": null,
       "top": null,
       "visibility": null,
       "width": null
      }
     },
     "333375ca2c264facb452d05fc39bf29b": {
      "model_module": "@jupyter-widgets/controls",
      "model_module_version": "1.5.0",
      "model_name": "FloatProgressModel",
      "state": {
       "_dom_classes": [],
       "_model_module": "@jupyter-widgets/controls",
       "_model_module_version": "1.5.0",
       "_model_name": "FloatProgressModel",
       "_view_count": null,
       "_view_module": "@jupyter-widgets/controls",
       "_view_module_version": "1.5.0",
       "_view_name": "ProgressView",
       "bar_style": "success",
       "description": "",
       "description_tooltip": null,
       "layout": "IPY_MODEL_6809b47e98394291ab4e98781c354cb1",
       "max": 3.0,
       "min": 0.0,
       "orientation": "horizontal",
       "style": "IPY_MODEL_e63215277a5d4bdda4236892d4a27ba6",
       "value": 3.0
      }
     },
     "338311bcb93d4ffab012f8431b79f348": {
      "model_module": "@jupyter-widgets/controls",
      "model_module_version": "1.5.0",
      "model_name": "FloatProgressModel",
      "state": {
       "_dom_classes": [],
       "_model_module": "@jupyter-widgets/controls",
       "_model_module_version": "1.5.0",
       "_model_name": "FloatProgressModel",
       "_view_count": null,
       "_view_module": "@jupyter-widgets/controls",
       "_view_module_version": "1.5.0",
       "_view_name": "ProgressView",
       "bar_style": "success",
       "description": "",
       "description_tooltip": null,
       "layout": "IPY_MODEL_12af8ce464924b31829eb9f75f494487",
       "max": 3.0,
       "min": 0.0,
       "orientation": "horizontal",
       "style": "IPY_MODEL_3711efdfe9e84c968476f6e9248a27c5",
       "value": 3.0
      }
     },
     "3711efdfe9e84c968476f6e9248a27c5": {
      "model_module": "@jupyter-widgets/controls",
      "model_module_version": "1.5.0",
      "model_name": "ProgressStyleModel",
      "state": {
       "_model_module": "@jupyter-widgets/controls",
       "_model_module_version": "1.5.0",
       "_model_name": "ProgressStyleModel",
       "_view_count": null,
       "_view_module": "@jupyter-widgets/base",
       "_view_module_version": "1.2.0",
       "_view_name": "StyleView",
       "bar_color": null,
       "description_width": ""
      }
     },
     "38c03ca57b424407b9607fed4311c7e4": {
      "model_module": "@jupyter-widgets/base",
      "model_module_version": "1.2.0",
      "model_name": "LayoutModel",
      "state": {
       "_model_module": "@jupyter-widgets/base",
       "_model_module_version": "1.2.0",
       "_model_name": "LayoutModel",
       "_view_count": null,
       "_view_module": "@jupyter-widgets/base",
       "_view_module_version": "1.2.0",
       "_view_name": "LayoutView",
       "align_content": null,
       "align_items": null,
       "align_self": null,
       "border": null,
       "bottom": null,
       "display": null,
       "flex": null,
       "flex_flow": null,
       "grid_area": null,
       "grid_auto_columns": null,
       "grid_auto_flow": null,
       "grid_auto_rows": null,
       "grid_column": null,
       "grid_gap": null,
       "grid_row": null,
       "grid_template_areas": null,
       "grid_template_columns": null,
       "grid_template_rows": null,
       "height": null,
       "justify_content": null,
       "justify_items": null,
       "left": null,
       "margin": null,
       "max_height": null,
       "max_width": null,
       "min_height": null,
       "min_width": null,
       "object_fit": null,
       "object_position": null,
       "order": null,
       "overflow": null,
       "overflow_x": null,
       "overflow_y": null,
       "padding": null,
       "right": null,
       "top": null,
       "visibility": null,
       "width": null
      }
     },
     "4a15dd88cfe742d39a816d0de8b82e8d": {
      "model_module": "@jupyter-widgets/base",
      "model_module_version": "1.2.0",
      "model_name": "LayoutModel",
      "state": {
       "_model_module": "@jupyter-widgets/base",
       "_model_module_version": "1.2.0",
       "_model_name": "LayoutModel",
       "_view_count": null,
       "_view_module": "@jupyter-widgets/base",
       "_view_module_version": "1.2.0",
       "_view_name": "LayoutView",
       "align_content": null,
       "align_items": null,
       "align_self": null,
       "border": null,
       "bottom": null,
       "display": null,
       "flex": null,
       "flex_flow": null,
       "grid_area": null,
       "grid_auto_columns": null,
       "grid_auto_flow": null,
       "grid_auto_rows": null,
       "grid_column": null,
       "grid_gap": null,
       "grid_row": null,
       "grid_template_areas": null,
       "grid_template_columns": null,
       "grid_template_rows": null,
       "height": null,
       "justify_content": null,
       "justify_items": null,
       "left": null,
       "margin": null,
       "max_height": null,
       "max_width": null,
       "min_height": null,
       "min_width": null,
       "object_fit": null,
       "object_position": null,
       "order": null,
       "overflow": null,
       "overflow_x": null,
       "overflow_y": null,
       "padding": null,
       "right": null,
       "top": null,
       "visibility": null,
       "width": null
      }
     },
     "4f7f6e703a194770a70f3528cd2f3575": {
      "model_module": "@jupyter-widgets/base",
      "model_module_version": "1.2.0",
      "model_name": "LayoutModel",
      "state": {
       "_model_module": "@jupyter-widgets/base",
       "_model_module_version": "1.2.0",
       "_model_name": "LayoutModel",
       "_view_count": null,
       "_view_module": "@jupyter-widgets/base",
       "_view_module_version": "1.2.0",
       "_view_name": "LayoutView",
       "align_content": null,
       "align_items": null,
       "align_self": null,
       "border": null,
       "bottom": null,
       "display": null,
       "flex": null,
       "flex_flow": null,
       "grid_area": null,
       "grid_auto_columns": null,
       "grid_auto_flow": null,
       "grid_auto_rows": null,
       "grid_column": null,
       "grid_gap": null,
       "grid_row": null,
       "grid_template_areas": null,
       "grid_template_columns": null,
       "grid_template_rows": null,
       "height": null,
       "justify_content": null,
       "justify_items": null,
       "left": null,
       "margin": null,
       "max_height": null,
       "max_width": null,
       "min_height": null,
       "min_width": null,
       "object_fit": null,
       "object_position": null,
       "order": null,
       "overflow": null,
       "overflow_x": null,
       "overflow_y": null,
       "padding": null,
       "right": null,
       "top": null,
       "visibility": null,
       "width": null
      }
     },
     "51482c6dff8a4bdcaa0c722a9d2381b9": {
      "model_module": "@jupyter-widgets/controls",
      "model_module_version": "1.5.0",
      "model_name": "DescriptionStyleModel",
      "state": {
       "_model_module": "@jupyter-widgets/controls",
       "_model_module_version": "1.5.0",
       "_model_name": "DescriptionStyleModel",
       "_view_count": null,
       "_view_module": "@jupyter-widgets/base",
       "_view_module_version": "1.2.0",
       "_view_name": "StyleView",
       "description_width": ""
      }
     },
     "5c00b9429b1741cd8b5666b0665b705d": {
      "model_module": "@jupyter-widgets/controls",
      "model_module_version": "1.5.0",
      "model_name": "HTMLModel",
      "state": {
       "_dom_classes": [],
       "_model_module": "@jupyter-widgets/controls",
       "_model_module_version": "1.5.0",
       "_model_name": "HTMLModel",
       "_view_count": null,
       "_view_module": "@jupyter-widgets/controls",
       "_view_module_version": "1.5.0",
       "_view_name": "HTMLView",
       "description": "",
       "description_tooltip": null,
       "layout": "IPY_MODEL_4f7f6e703a194770a70f3528cd2f3575",
       "placeholder": "​",
       "style": "IPY_MODEL_51482c6dff8a4bdcaa0c722a9d2381b9",
       "value": "100%"
      }
     },
     "6809b47e98394291ab4e98781c354cb1": {
      "model_module": "@jupyter-widgets/base",
      "model_module_version": "1.2.0",
      "model_name": "LayoutModel",
      "state": {
       "_model_module": "@jupyter-widgets/base",
       "_model_module_version": "1.2.0",
       "_model_name": "LayoutModel",
       "_view_count": null,
       "_view_module": "@jupyter-widgets/base",
       "_view_module_version": "1.2.0",
       "_view_name": "LayoutView",
       "align_content": null,
       "align_items": null,
       "align_self": null,
       "border": null,
       "bottom": null,
       "display": null,
       "flex": null,
       "flex_flow": null,
       "grid_area": null,
       "grid_auto_columns": null,
       "grid_auto_flow": null,
       "grid_auto_rows": null,
       "grid_column": null,
       "grid_gap": null,
       "grid_row": null,
       "grid_template_areas": null,
       "grid_template_columns": null,
       "grid_template_rows": null,
       "height": null,
       "justify_content": null,
       "justify_items": null,
       "left": null,
       "margin": null,
       "max_height": null,
       "max_width": null,
       "min_height": null,
       "min_width": null,
       "object_fit": null,
       "object_position": null,
       "order": null,
       "overflow": null,
       "overflow_x": null,
       "overflow_y": null,
       "padding": null,
       "right": null,
       "top": null,
       "visibility": null,
       "width": null
      }
     },
     "6a5ea6a50277409ebf28d240107b0e37": {
      "model_module": "@jupyter-widgets/base",
      "model_module_version": "1.2.0",
      "model_name": "LayoutModel",
      "state": {
       "_model_module": "@jupyter-widgets/base",
       "_model_module_version": "1.2.0",
       "_model_name": "LayoutModel",
       "_view_count": null,
       "_view_module": "@jupyter-widgets/base",
       "_view_module_version": "1.2.0",
       "_view_name": "LayoutView",
       "align_content": null,
       "align_items": null,
       "align_self": null,
       "border": null,
       "bottom": null,
       "display": null,
       "flex": null,
       "flex_flow": null,
       "grid_area": null,
       "grid_auto_columns": null,
       "grid_auto_flow": null,
       "grid_auto_rows": null,
       "grid_column": null,
       "grid_gap": null,
       "grid_row": null,
       "grid_template_areas": null,
       "grid_template_columns": null,
       "grid_template_rows": null,
       "height": null,
       "justify_content": null,
       "justify_items": null,
       "left": null,
       "margin": null,
       "max_height": null,
       "max_width": null,
       "min_height": null,
       "min_width": null,
       "object_fit": null,
       "object_position": null,
       "order": null,
       "overflow": null,
       "overflow_x": null,
       "overflow_y": null,
       "padding": null,
       "right": null,
       "top": null,
       "visibility": null,
       "width": null
      }
     },
     "71730d493b8c4194b64c9e20e3fb6091": {
      "model_module": "@jupyter-widgets/base",
      "model_module_version": "1.2.0",
      "model_name": "LayoutModel",
      "state": {
       "_model_module": "@jupyter-widgets/base",
       "_model_module_version": "1.2.0",
       "_model_name": "LayoutModel",
       "_view_count": null,
       "_view_module": "@jupyter-widgets/base",
       "_view_module_version": "1.2.0",
       "_view_name": "LayoutView",
       "align_content": null,
       "align_items": null,
       "align_self": null,
       "border": null,
       "bottom": null,
       "display": null,
       "flex": null,
       "flex_flow": null,
       "grid_area": null,
       "grid_auto_columns": null,
       "grid_auto_flow": null,
       "grid_auto_rows": null,
       "grid_column": null,
       "grid_gap": null,
       "grid_row": null,
       "grid_template_areas": null,
       "grid_template_columns": null,
       "grid_template_rows": null,
       "height": null,
       "justify_content": null,
       "justify_items": null,
       "left": null,
       "margin": null,
       "max_height": null,
       "max_width": null,
       "min_height": null,
       "min_width": null,
       "object_fit": null,
       "object_position": null,
       "order": null,
       "overflow": null,
       "overflow_x": null,
       "overflow_y": null,
       "padding": null,
       "right": null,
       "top": null,
       "visibility": null,
       "width": null
      }
     },
     "86631092932f4b1d81449be1f3e968c0": {
      "model_module": "@jupyter-widgets/controls",
      "model_module_version": "1.5.0",
      "model_name": "HTMLModel",
      "state": {
       "_dom_classes": [],
       "_model_module": "@jupyter-widgets/controls",
       "_model_module_version": "1.5.0",
       "_model_name": "HTMLModel",
       "_view_count": null,
       "_view_module": "@jupyter-widgets/controls",
       "_view_module_version": "1.5.0",
       "_view_name": "HTMLView",
       "description": "",
       "description_tooltip": null,
       "layout": "IPY_MODEL_6a5ea6a50277409ebf28d240107b0e37",
       "placeholder": "​",
       "style": "IPY_MODEL_d80ba3509e42415580b6270d447cd516",
       "value": " 6/6 [00:00&lt;00:00, 96.94it/s]"
      }
     },
     "8c90ec24d98145eeb381075ca7b763ee": {
      "model_module": "@jupyter-widgets/base",
      "model_module_version": "1.2.0",
      "model_name": "LayoutModel",
      "state": {
       "_model_module": "@jupyter-widgets/base",
       "_model_module_version": "1.2.0",
       "_model_name": "LayoutModel",
       "_view_count": null,
       "_view_module": "@jupyter-widgets/base",
       "_view_module_version": "1.2.0",
       "_view_name": "LayoutView",
       "align_content": null,
       "align_items": null,
       "align_self": null,
       "border": null,
       "bottom": null,
       "display": null,
       "flex": null,
       "flex_flow": null,
       "grid_area": null,
       "grid_auto_columns": null,
       "grid_auto_flow": null,
       "grid_auto_rows": null,
       "grid_column": null,
       "grid_gap": null,
       "grid_row": null,
       "grid_template_areas": null,
       "grid_template_columns": null,
       "grid_template_rows": null,
       "height": null,
       "justify_content": null,
       "justify_items": null,
       "left": null,
       "margin": null,
       "max_height": null,
       "max_width": null,
       "min_height": null,
       "min_width": null,
       "object_fit": null,
       "object_position": null,
       "order": null,
       "overflow": null,
       "overflow_x": null,
       "overflow_y": null,
       "padding": null,
       "right": null,
       "top": null,
       "visibility": null,
       "width": null
      }
     },
     "8cdb191b6b1c46d3998c4009dadd046f": {
      "model_module": "@jupyter-widgets/controls",
      "model_module_version": "1.5.0",
      "model_name": "DescriptionStyleModel",
      "state": {
       "_model_module": "@jupyter-widgets/controls",
       "_model_module_version": "1.5.0",
       "_model_name": "DescriptionStyleModel",
       "_view_count": null,
       "_view_module": "@jupyter-widgets/base",
       "_view_module_version": "1.2.0",
       "_view_name": "StyleView",
       "description_width": ""
      }
     },
     "9b062edc4c114fa5861d8e8e25a516f7": {
      "model_module": "@jupyter-widgets/controls",
      "model_module_version": "1.5.0",
      "model_name": "FloatProgressModel",
      "state": {
       "_dom_classes": [],
       "_model_module": "@jupyter-widgets/controls",
       "_model_module_version": "1.5.0",
       "_model_name": "FloatProgressModel",
       "_view_count": null,
       "_view_module": "@jupyter-widgets/controls",
       "_view_module_version": "1.5.0",
       "_view_name": "ProgressView",
       "bar_style": "success",
       "description": "",
       "description_tooltip": null,
       "layout": "IPY_MODEL_a02c0313ace7445a8c8f52d164debdbc",
       "max": 6.0,
       "min": 0.0,
       "orientation": "horizontal",
       "style": "IPY_MODEL_ada2ae14d44149de848d85fd633b632b",
       "value": 6.0
      }
     },
     "9f4a74baa43f40798b0978e0e98f210a": {
      "model_module": "@jupyter-widgets/controls",
      "model_module_version": "1.5.0",
      "model_name": "HTMLModel",
      "state": {
       "_dom_classes": [],
       "_model_module": "@jupyter-widgets/controls",
       "_model_module_version": "1.5.0",
       "_model_name": "HTMLModel",
       "_view_count": null,
       "_view_module": "@jupyter-widgets/controls",
       "_view_module_version": "1.5.0",
       "_view_name": "HTMLView",
       "description": "",
       "description_tooltip": null,
       "layout": "IPY_MODEL_71730d493b8c4194b64c9e20e3fb6091",
       "placeholder": "​",
       "style": "IPY_MODEL_ce018c7ca7e848919339fee07f5a68c8",
       "value": " 3/3 [00:02&lt;00:00,  1.64it/s]"
      }
     },
     "a02c0313ace7445a8c8f52d164debdbc": {
      "model_module": "@jupyter-widgets/base",
      "model_module_version": "1.2.0",
      "model_name": "LayoutModel",
      "state": {
       "_model_module": "@jupyter-widgets/base",
       "_model_module_version": "1.2.0",
       "_model_name": "LayoutModel",
       "_view_count": null,
       "_view_module": "@jupyter-widgets/base",
       "_view_module_version": "1.2.0",
       "_view_name": "LayoutView",
       "align_content": null,
       "align_items": null,
       "align_self": null,
       "border": null,
       "bottom": null,
       "display": null,
       "flex": null,
       "flex_flow": null,
       "grid_area": null,
       "grid_auto_columns": null,
       "grid_auto_flow": null,
       "grid_auto_rows": null,
       "grid_column": null,
       "grid_gap": null,
       "grid_row": null,
       "grid_template_areas": null,
       "grid_template_columns": null,
       "grid_template_rows": null,
       "height": null,
       "justify_content": null,
       "justify_items": null,
       "left": null,
       "margin": null,
       "max_height": null,
       "max_width": null,
       "min_height": null,
       "min_width": null,
       "object_fit": null,
       "object_position": null,
       "order": null,
       "overflow": null,
       "overflow_x": null,
       "overflow_y": null,
       "padding": null,
       "right": null,
       "top": null,
       "visibility": null,
       "width": null
      }
     },
     "a4e07fe20bdd4ed5b9ae44d8f00a4f5c": {
      "model_module": "@jupyter-widgets/controls",
      "model_module_version": "1.5.0",
      "model_name": "HTMLModel",
      "state": {
       "_dom_classes": [],
       "_model_module": "@jupyter-widgets/controls",
       "_model_module_version": "1.5.0",
       "_model_name": "HTMLModel",
       "_view_count": null,
       "_view_module": "@jupyter-widgets/controls",
       "_view_module_version": "1.5.0",
       "_view_name": "HTMLView",
       "description": "",
       "description_tooltip": null,
       "layout": "IPY_MODEL_0289ba9e6c754a369e0a074b92c0307c",
       "placeholder": "​",
       "style": "IPY_MODEL_ac7c1186fac84879a4072d581dded7ce",
       "value": "Patients : 100%"
      }
     },
     "ac7c1186fac84879a4072d581dded7ce": {
      "model_module": "@jupyter-widgets/controls",
      "model_module_version": "1.5.0",
      "model_name": "DescriptionStyleModel",
      "state": {
       "_model_module": "@jupyter-widgets/controls",
       "_model_module_version": "1.5.0",
       "_model_name": "DescriptionStyleModel",
       "_view_count": null,
       "_view_module": "@jupyter-widgets/base",
       "_view_module_version": "1.2.0",
       "_view_name": "StyleView",
       "description_width": ""
      }
     },
     "ada2ae14d44149de848d85fd633b632b": {
      "model_module": "@jupyter-widgets/controls",
      "model_module_version": "1.5.0",
      "model_name": "ProgressStyleModel",
      "state": {
       "_model_module": "@jupyter-widgets/controls",
       "_model_module_version": "1.5.0",
       "_model_name": "ProgressStyleModel",
       "_view_count": null,
       "_view_module": "@jupyter-widgets/base",
       "_view_module_version": "1.2.0",
       "_view_name": "StyleView",
       "bar_color": null,
       "description_width": ""
      }
     },
     "b2c3e74187524d6b884105b3467967d7": {
      "model_module": "@jupyter-widgets/base",
      "model_module_version": "1.2.0",
      "model_name": "LayoutModel",
      "state": {
       "_model_module": "@jupyter-widgets/base",
       "_model_module_version": "1.2.0",
       "_model_name": "LayoutModel",
       "_view_count": null,
       "_view_module": "@jupyter-widgets/base",
       "_view_module_version": "1.2.0",
       "_view_name": "LayoutView",
       "align_content": null,
       "align_items": null,
       "align_self": null,
       "border": null,
       "bottom": null,
       "display": null,
       "flex": null,
       "flex_flow": null,
       "grid_area": null,
       "grid_auto_columns": null,
       "grid_auto_flow": null,
       "grid_auto_rows": null,
       "grid_column": null,
       "grid_gap": null,
       "grid_row": null,
       "grid_template_areas": null,
       "grid_template_columns": null,
       "grid_template_rows": null,
       "height": null,
       "justify_content": null,
       "justify_items": null,
       "left": null,
       "margin": null,
       "max_height": null,
       "max_width": null,
       "min_height": null,
       "min_width": null,
       "object_fit": null,
       "object_position": null,
       "order": null,
       "overflow": null,
       "overflow_x": null,
       "overflow_y": null,
       "padding": null,
       "right": null,
       "top": null,
       "visibility": null,
       "width": null
      }
     },
     "ce018c7ca7e848919339fee07f5a68c8": {
      "model_module": "@jupyter-widgets/controls",
      "model_module_version": "1.5.0",
      "model_name": "DescriptionStyleModel",
      "state": {
       "_model_module": "@jupyter-widgets/controls",
       "_model_module_version": "1.5.0",
       "_model_name": "DescriptionStyleModel",
       "_view_count": null,
       "_view_module": "@jupyter-widgets/base",
       "_view_module_version": "1.2.0",
       "_view_name": "StyleView",
       "description_width": ""
      }
     },
     "d80ba3509e42415580b6270d447cd516": {
      "model_module": "@jupyter-widgets/controls",
      "model_module_version": "1.5.0",
      "model_name": "DescriptionStyleModel",
      "state": {
       "_model_module": "@jupyter-widgets/controls",
       "_model_module_version": "1.5.0",
       "_model_name": "DescriptionStyleModel",
       "_view_count": null,
       "_view_module": "@jupyter-widgets/base",
       "_view_module_version": "1.2.0",
       "_view_name": "StyleView",
       "description_width": ""
      }
     },
     "d84a0af84d5343c49c437943f5771c60": {
      "model_module": "@jupyter-widgets/controls",
      "model_module_version": "1.5.0",
      "model_name": "DescriptionStyleModel",
      "state": {
       "_model_module": "@jupyter-widgets/controls",
       "_model_module_version": "1.5.0",
       "_model_name": "DescriptionStyleModel",
       "_view_count": null,
       "_view_module": "@jupyter-widgets/base",
       "_view_module_version": "1.2.0",
       "_view_name": "StyleView",
       "description_width": ""
      }
     },
     "e63215277a5d4bdda4236892d4a27ba6": {
      "model_module": "@jupyter-widgets/controls",
      "model_module_version": "1.5.0",
      "model_name": "ProgressStyleModel",
      "state": {
       "_model_module": "@jupyter-widgets/controls",
       "_model_module_version": "1.5.0",
       "_model_name": "ProgressStyleModel",
       "_view_count": null,
       "_view_module": "@jupyter-widgets/base",
       "_view_module_version": "1.2.0",
       "_view_name": "StyleView",
       "bar_color": null,
       "description_width": ""
      }
     },
     "f1a0137045174a36bb6fba96717c9a2c": {
      "model_module": "@jupyter-widgets/controls",
      "model_module_version": "1.5.0",
      "model_name": "HBoxModel",
      "state": {
       "_dom_classes": [],
       "_model_module": "@jupyter-widgets/controls",
       "_model_module_version": "1.5.0",
       "_model_name": "HBoxModel",
       "_view_count": null,
       "_view_module": "@jupyter-widgets/controls",
       "_view_module_version": "1.5.0",
       "_view_name": "HBoxView",
       "box_style": "",
       "children": [
        "IPY_MODEL_5c00b9429b1741cd8b5666b0665b705d",
        "IPY_MODEL_333375ca2c264facb452d05fc39bf29b",
        "IPY_MODEL_2a7a667dd49b4410b5c8a60ad27f4ef8"
       ],
       "layout": "IPY_MODEL_b2c3e74187524d6b884105b3467967d7"
      }
     }
    },
    "version_major": 2,
    "version_minor": 0
   }
  }
 },
 "nbformat": 4,
 "nbformat_minor": 5
}
